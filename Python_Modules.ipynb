{
 "cells": [
  {
   "cell_type": "code",
   "execution_count": 28,
   "id": "1c0c36b3-7b2f-4347-b704-af333e94b54c",
   "metadata": {},
   "outputs": [
    {
     "name": "stdout",
     "output_type": "stream",
     "text": [
      " Sqrt of 9 :  3.0\n",
      " Factorial Value :  720\n",
      " pow(5,3) :  125.0\n",
      " ceil(5.9) :  6\n",
      " floor(5.9) :  5\n",
      " fabs(-4.7) :  4.7\n",
      " exp(5.2) :  181.27224187515122\n",
      " dist(2,7) :  5.0\n",
      " log(10) :  2.302585092994046\n",
      " =================== \n",
      " pi value :  3.141592653589793\n",
      " Euler's Number :  2.718281828459045\n",
      " tau value :  6.283185307179586\n",
      " Infinity value :  inf\n",
      " Not a Number :  nan\n",
      " =================== \n",
      " sin(30) :  0.49999999999999994\n",
      " cos(45) :  0.7071067811865476\n",
      " tan(60) :  1.7320508075688767\n",
      " asin(30) :  0.5510695830994463\n",
      " acos(45) :  0.6674572160283838\n",
      " atan(60) :  0.808448792630022\n",
      " =================== \n"
     ]
    }
   ],
   "source": [
    "# Python Math module\n",
    "# print(\" DIR - Math \",dir(math))\n",
    "import math  \n",
    "print(\" Sqrt of 9 : \",math.sqrt( 9 ))  \n",
    "#n=int(input(\" Enter a Number : \"))  \n",
    "print(\" Factorial Value : \",math.factorial(6)) \n",
    "print(\" pow(5,3) : \",math.pow(5, 3))\n",
    "print(\" ceil(5.9) : \",math.ceil(5.9))\n",
    "print(\" floor(5.9) : \",math.floor(5.9))\n",
    "print(\" fabs(-4.7) : \",math.fabs(-4.7))\n",
    "print(\" exp(5.2) : \",math.exp(5.2))\n",
    "print(\" dist(2,7) : \",math.dist([2],[7]))\n",
    "print(\" log(10) : \",math.log(10))\n",
    "\n",
    "# Constants in Math Module\n",
    "print(\" =================== \")\n",
    "print(\" pi value : \",math.pi)\n",
    "print(\" Euler's Number : \",math.e)\n",
    "print(\" tau value : \",math.tau)\n",
    "print(\" Infinity value : \",math.inf )\n",
    "print(\" Not a Number : \",math.nan )\n",
    "\n",
    "# Calculating Sine, Cosine, and Tangent\n",
    "print(\" =================== \")\n",
    "print(\" sin(30) : \",math.sin((30*math.pi)/180))\n",
    "print(\" cos(45) : \",math.cos((45*math.pi)/180))\n",
    "print(\" tan(60) : \",math.tan((60*math.pi)/180))\n",
    "print(\" asin(30) : \",math.asin((30*math.pi)/180))\n",
    "print(\" acos(45) : \",math.acos((45*math.pi)/180))\n",
    "print(\" atan(60) : \",math.atan((60*math.pi)/180))\n",
    "print(\" =================== \")\n",
    "\n"
   ]
  },
  {
   "cell_type": "code",
   "execution_count": 35,
   "id": "22910f06-2152-464d-9ba3-872b06f132a9",
   "metadata": {},
   "outputs": [
    {
     "name": "stdout",
     "output_type": "stream",
     "text": [
      " median :  13.0\n",
      " mean :  8\n",
      " mode :  16\n",
      " median_low :  12\n",
      " median_high :  14\n",
      " median_grouped :  1.5\n",
      " harmonic_mean :  8\n",
      " pstdev :  36.09276243237694\n",
      " stdev :  41.67633221226007\n",
      " variance :  1302.6875\n",
      " Median :  11.0\n",
      " Mean :  11\n",
      " Mod  6\n",
      " Standard Deviation :  37.3496987939662\n",
      " Standard Deviation :  33.406586176980134\n",
      " Low Median :  50\n",
      " High Median :  50\n",
      " harmonic mean :  27.397260273972602\n",
      " Median Groups :  0.5\n",
      " Variance :  10\n"
     ]
    }
   ],
   "source": [
    "import statistics\n",
    "#Statistics Function\n",
    "print(\" median : \",statistics.median([8, 10, 12, 14, 16, 18]))\n",
    "print(\" mean : \",statistics.mean([2, 4, 6, 8, 10, 12, 14]))\n",
    "print(\" mode : \",statistics.mode([20, 4, 16, 8, 10, 12, 18, 16]))\n",
    "print(\" median_low : \",statistics.median_low([8, 10, 12, 14, 16, 18]))\n",
    "print(\" median_high : \",statistics.median_high([8, 10, 12, 14, 16, 18]))\n",
    "print(\" median_grouped : \",statistics.median_grouped([1, 2, 3, 4], 3))\n",
    "print(\" harmonic_mean : \",statistics.mean([2, 4, 6, 8, 10, 12, 14]))\n",
    "print(\" pstdev : \",statistics.pstdev([1, 30, 50, 100]))\n",
    "print(\" stdev : \",statistics.stdev([1, 30, 50, 100]))\n",
    "print(\" variance : \",statistics.pvariance([1, 30, 50, 100]))\n",
    "\n",
    "sample = [10, 25, 50 , 80, 100]\n",
    "print(\" Median : \",statistics.median([2, 4, 6, 8, 10, 12, 14, 16, 18, 20]))\n",
    "print(\" Mean : \",statistics.mean([2, 4, 6, 8, 10, 12, 14, 16, 18, 20]))\n",
    "print(\" Mod \",statistics.mode([20, 4, 6, 8, 10, 6, 12, 4, 6, 18, 20]))\n",
    "print(\" Standard Deviation : \",statistics.stdev(sample))\n",
    "print(\" Standard Deviation : \",statistics.pstdev(sample))\n",
    "print(\" Low Median : \",statistics.median_low(sample)) \n",
    "print(\" High Median : \",statistics.median_high(sample))\n",
    "print(\" harmonic mean : \",statistics.harmonic_mean(sample))\n",
    "print(\" Median Groups : \",statistics.median_grouped([1, 2, 3, 4], 5))\n",
    "print(\" Variance : \",statistics.variance([1, 2, 3, 4], 5))\n",
    "\n",
    "\n",
    " # print(\" DIR - Statistics \",dir(statistics))"
   ]
  },
  {
   "cell_type": "code",
   "execution_count": 46,
   "id": "9395a9a9-6135-4916-ac85-82d3a9662f14",
   "metadata": {},
   "outputs": [
    {
     "name": "stdout",
     "output_type": "stream",
     "text": [
      " Random Value :  0.09213685107715974\n",
      " Radint Value :  111\n",
      "0.4700308554361262\n",
      "35\n",
      "4\n",
      "3\n",
      "o\n",
      "54\n",
      "34\n",
      "[23, 86, 34, 65, 43, 23]\n",
      "[43, 65, 23, 23, 86, 34]\n"
     ]
    }
   ],
   "source": [
    "import random\n",
    "print(\" Random Value : \",random.random())\n",
    "print(\" Radint Value : \",random.randint(1, 500))\n",
    "num=random.random()\n",
    "print(num)\n",
    "num=random.randint(1,500)\n",
    "print(num)\n",
    "num = random.randrange(1, 10)\n",
    "print(num)\n",
    "num = random.randrange(1, 10, 2)\n",
    "print(num)\n",
    "\n",
    "random_s = random.choice('Random Module') #a string  \n",
    "print( random_s )  \n",
    "random_l = random.choice([23, 54, 765, 23, 45, 45]) #a list  \n",
    "print( random_l )  \n",
    "random_s = random.choice((12, 64, 23, 54, 34)) #a set  \n",
    "print( random_s )  \n",
    "\n",
    "list1 = [34, 23, 65, 86, 23, 43]    \n",
    "random.shuffle( list1 )    \n",
    "print( list1 )    \n",
    "random.shuffle( list1 )    \n",
    "print( list1 )    \n"
   ]
  },
  {
   "cell_type": "code",
   "execution_count": 48,
   "id": "066b4bc0-9bc9-4a98-97ad-5a1646d9dab8",
   "metadata": {},
   "outputs": [
    {
     "name": "stdout",
     "output_type": "stream",
     "text": [
      " Random Value :  0.3287082088622667\n",
      " Random Integer Value :  410\n",
      " Random Range Value :  3\n",
      " Random Range Value :  3\n",
      " Choice Value :  12\n",
      " Shuffle Values :  [34, 65, 86, 43, 23, 23]\n"
     ]
    }
   ],
   "source": [
    "import random    \n",
    "print(\" Random Value : \",random.random())\n",
    "print(\" Random Integer Value : \",random.randint(1, 500))\n",
    "print(\" Random Range Value : \",random.randrange(1, 10))\n",
    "print(\" Random Range Value : \",random.randrange(1, 10,2))\n",
    "print(\" Choice Value : \",random.choice([12, 64, 23, 54, 34]))\n",
    "mylist = [34, 23, 65, 86, 23, 43]    \n",
    "random.shuffle(mylist)    \n",
    "print(\" Shuffle Values : \",mylist)   \n"
   ]
  },
  {
   "cell_type": "code",
   "execution_count": null,
   "id": "3e3a6f23-968c-4019-b62f-fd7c54c7b0e2",
   "metadata": {},
   "outputs": [],
   "source": []
  },
  {
   "cell_type": "code",
   "execution_count": 8,
   "id": "8378ccc9-309a-4438-af5d-504ecc878819",
   "metadata": {},
   "outputs": [
    {
     "name": "stdout",
     "output_type": "stream",
     "text": [
      "404\n",
      "{'Date': 'Sat, 10 May 2025 04:28:41 GMT', 'Server': 'Apache', 'Expires': 'Wed, 11 Jan 1984 05:00:00 GMT', 'Cache-Control': 'no-cache, must-revalidate, max-age=0, no-store, private', 'Link': '<https://sathyatech.com/wp-json/>; rel=\"https://api.w.org/\"', 'Upgrade': 'h2', 'Connection': 'Upgrade, Keep-Alive', 'Keep-Alive': 'timeout=5, max=100', 'Content-Type': 'text/html; charset=UTF-8'}\n"
     ]
    }
   ],
   "source": [
    "# python request method\n",
    "import requests\n",
    "#print(\" DIR - Requests \",dir(requests))\n",
    "\n",
    "x = requests.get(\"https://sathyatech.com/class-room-schedules/\")\n",
    "print(x.status_code)\n",
    "print(x.headers)\n",
    "#print(x.text)\n",
    "\n"
   ]
  },
  {
   "cell_type": "code",
   "execution_count": 14,
   "id": "a87d7c09-2574-4d4b-8506-0779b5424ac6",
   "metadata": {},
   "outputs": [
    {
     "name": "stdout",
     "output_type": "stream",
     "text": [
      "\n",
      "Original String Sathya Tech, HELLO world!\n",
      "SATHYA TECH, HELLO WORLD!\n",
      "sathya tech, hello world!\n",
      "Sathya Tech, Hello World!\n",
      "sATHYA tECH, hello WORLD!\n",
      "Sathya tech, hello world!\n",
      "True\n",
      "False\n",
      "False\n",
      "True\n",
      "True\n",
      "False\n"
     ]
    }
   ],
   "source": [
    "# Python String Functions\n",
    "text = 'Sathya Tech, HELLO world!'\n",
    "\n",
    "# original string never changes\n",
    "print(\"\\nOriginal String\",text)\n",
    "\n",
    "# string to upper case\n",
    "print(text.upper())\n",
    "\n",
    "# string to lower case\n",
    "print(text.lower())\n",
    "\n",
    "# upper case and rest to lower case \n",
    "print(text.title())\n",
    "\n",
    "# upper case character to lowercase and viceversa\n",
    "print(text.swapcase())\n",
    "\n",
    "# convert the first character of a string to uppercase\n",
    "print(text.capitalize())\n",
    "\n",
    "txt = \"Hello9\"\n",
    "x = txt.isalnum()\n",
    "print(x)\n",
    "x = txt.isalpha()\n",
    "print(x)\n",
    "x = txt.isdecimal()\n",
    "print(x)\n",
    "x = txt.isascii()\n",
    "print(x)\n",
    "x = txt.isidentifier()\n",
    "print(x)\n",
    "txt = \"Hello world\"\n",
    "x = txt.isidentifier()\n",
    "print(x)"
   ]
  },
  {
   "cell_type": "code",
   "execution_count": 15,
   "id": "255e0637-0955-410f-acb9-52a3c2f1f69c",
   "metadata": {},
   "outputs": [
    {
     "name": "stdout",
     "output_type": "stream",
     "text": [
      "abcdefghijklmnopqrstuvwxyzABCDEFGHIJKLMNOPQRSTUVWXYZ\n",
      "abcdefghijklmnopqrstuvwxyz\n",
      "ABCDEFGHIJKLMNOPQRSTUVWXYZ\n",
      "0123456789\n",
      "0123456789abcdefABCDEF\n",
      " \t\n",
      "\u000b",
      "\f",
      "\n",
      "!\"#$%&'()*+,-./:;<=>?@[\\]^_`{|}~\n"
     ]
    }
   ],
   "source": [
    "import string\n",
    "\n",
    "# string module constants\n",
    "print(string.ascii_letters)\n",
    "print(string.ascii_lowercase)\n",
    "print(string.ascii_uppercase)\n",
    "print(string.digits)\n",
    "print(string.hexdigits)\n",
    "print(string.whitespace)  # ' \\t\\n\\r\\x0b\\x0c'\n",
    "print(string.punctuation)"
   ]
  },
  {
   "cell_type": "code",
   "execution_count": 21,
   "id": "ea6f1445-f382-4a08-9fbe-23eb1959c6c5",
   "metadata": {},
   "outputs": [
    {
     "name": "stdout",
     "output_type": "stream",
     "text": [
      "Welcome To Sathya Tech\n",
      "SathyaTech\n",
      "Welcome to SathyaTech\n",
      "Welcome to SathyaTech\n",
      "Guido van rossum is the Founder of Python\n"
     ]
    }
   ],
   "source": [
    "import string\n",
    "from string import Formatter\n",
    "from string import Template\n",
    "\n",
    "s = \"  welcome TO  \\n\\n SATHYA TECH\"\n",
    "print(string.capwords(s))\n",
    "\n",
    "formatter = Formatter()\n",
    "print(formatter.format('{website}', website='SathyaTech'))\n",
    "print(formatter.format('{} {website}', 'Welcome to', website='SathyaTech'))\n",
    "\n",
    "# format() behaves in similar manner\n",
    "print('{} {website}'.format('Welcome to', website='SathyaTech'))\n",
    "\n",
    "\n",
    "t = Template('$name is the $title of $company')\n",
    "s = t.substitute(name='Guido van rossum', title='Founder', company='Python')\n",
    "print(s)"
   ]
  },
  {
   "cell_type": "code",
   "execution_count": 22,
   "id": "fe43b506-3074-4f2b-80b2-702e7fbfa5cd",
   "metadata": {},
   "outputs": [
    {
     "name": "stdout",
     "output_type": "stream",
     "text": [
      "ath\n",
      "Sat\n",
      "hyTech, Python\n",
      "nohtyP ,hceTyhtaS\n"
     ]
    }
   ],
   "source": [
    "# Python String Slicing\n",
    "s = \"SathyTech, Python\"\n",
    "\n",
    "# Retrieves characters from index 1 to 3\n",
    "print(s[1:4])  \n",
    "\n",
    "# Retrieves characters from beginning to index 2\n",
    "print(s[:3])   \n",
    "\n",
    "# Retrieves characters from index 3 to the end\n",
    "print(s[3:])   \n",
    "\n",
    "# Reverse a string\n",
    "print(s[::-1])\n",
    "\n"
   ]
  },
  {
   "cell_type": "code",
   "execution_count": 25,
   "id": "1d8c9349-fcee-4d6f-9d09-40b9385b41b4",
   "metadata": {},
   "outputs": [
    {
     "name": "stdout",
     "output_type": "stream",
     "text": [
      " String Length :  12\n",
      "Hello Sathya\n",
      "hello Python\n",
      "HELLO SATHYA\n",
      "hello sathya\n",
      "Name: Sathya, Age: 22\n"
     ]
    }
   ],
   "source": [
    "s = \"hello Sathya\"\n",
    "\n",
    "print(\" String Length : \",len(s))\n",
    "# Updating by creating a new string\n",
    "s1 = \"H\" + s[1:]\n",
    "s2 = s.replace(\"Sathya\", \"Python\")\n",
    "print(s1)\n",
    "print(s2)\n",
    "\n",
    "print(s.upper())\n",
    "print(s.lower())\n",
    "\n",
    "name = \"Sathya\"\n",
    "age = 22\n",
    "print(f\"Name: {name}, Age: {age}\")\n"
   ]
  },
  {
   "cell_type": "code",
   "execution_count": 8,
   "id": "ef77947e-28f4-4048-b6c1-08c1dc5043ef",
   "metadata": {},
   "outputs": [
    {
     "name": "stdout",
     "output_type": "stream",
     "text": [
      " Type :  <class 'numpy.ndarray'>\n",
      " Values :  [1 2 3 4 5]\n",
      " ============= \n",
      " Type :  <class 'list'>\n",
      " Values :  [1, 2, 3, 4, 5]\n"
     ]
    }
   ],
   "source": [
    "# list vs Numpy Array\n",
    "import numpy as np\n",
    "#print(\" DIR - NumPy: \",dir(numpy))\n",
    "arr = np.array([1, 2, 3, 4, 5])\n",
    "print(\" Type : \",type(arr))\n",
    "print(\" Values : \",arr)\n",
    "print(\" ============= \")\n",
    "lst = [1,2,3,4,5]\n",
    "print(\" Type : \",type(lst))\n",
    "print(\" Values : \",lst)\n",
    "\n"
   ]
  },
  {
   "cell_type": "code",
   "execution_count": 16,
   "id": "b8c5f801-9963-4d96-9500-6a96926e006e",
   "metadata": {},
   "outputs": [
    {
     "name": "stdout",
     "output_type": "stream",
     "text": [
      " ..... 0-D Arrays ..... \n",
      "0\n",
      "42\n",
      "\n",
      "  ..... 1-D Arrays  .....\n",
      "1\n",
      "[1 2 3 4 5]\n",
      "\n",
      " ..... 2-D Arrya  .....\n",
      "2\n",
      "[[1 2 3]\n",
      " [4 5 6]]\n",
      "\n",
      " ..... 3-D Arrya  .....\n",
      "3\n",
      "[[[1 2 3]\n",
      "  [4 5 6]]\n",
      "\n",
      " [[9 7 8]\n",
      "  [0 2 4]]]\n"
     ]
    }
   ],
   "source": [
    "# Dimensions in Arrays\n",
    "import numpy as np\n",
    "\n",
    "print(\" ..... 0-D Arrays ..... \")\n",
    "arr = np.array(42)\n",
    "print(arr.ndim)\n",
    "print(arr)\n",
    "\n",
    "print(\"\\n  ..... 1-D Arrays  .....\")\n",
    "arr = np.array([1, 2, 3, 4, 5])\n",
    "print(arr.ndim)\n",
    "print(arr)\n",
    "\n",
    "print(\"\\n ..... 2-D Arrya  .....\")\n",
    "arr = np.array([[1, 2, 3], [4, 5, 6]])\n",
    "print(arr.ndim)\n",
    "print(arr)\n",
    "\n",
    "print(\"\\n ..... 3-D Arrya  .....\")\n",
    "arr = np.array([[[1, 2, 3], [4, 5, 6]], [[9, 7, 8], [0, 2, 4]]])\n",
    "print(arr.ndim)\n",
    "print(arr)\n",
    "\n"
   ]
  },
  {
   "cell_type": "code",
   "execution_count": 17,
   "id": "3d69a216-09ee-4607-a92c-8cf57658bba6",
   "metadata": {},
   "outputs": [
    {
     "name": "stdout",
     "output_type": "stream",
     "text": [
      "[[[[[1 2 3 4]]]]]\n",
      "number of dimensions : 5\n"
     ]
    }
   ],
   "source": [
    "# Multi Dim. arrya\n",
    "import numpy as np\n",
    "\n",
    "arr = np.array([1, 2, 3, 4], ndmin=5)\n",
    "print(arr)\n",
    "print('number of dimensions :', arr.ndim)\n"
   ]
  },
  {
   "cell_type": "code",
   "execution_count": 21,
   "id": "13246ce6-7fce-4fe5-83de-d561a4d674d1",
   "metadata": {},
   "outputs": [
    {
     "name": "stdout",
     "output_type": "stream",
     "text": [
      "1\n",
      "7\n",
      "2nd element on 1st row:  2\n",
      "6\n"
     ]
    }
   ],
   "source": [
    "# Numpy Array Indexing\n",
    "import numpy as np\n",
    "\n",
    "arr = np.array([1, 2, 3, 4])\n",
    "print(arr[0])\n",
    "print(arr[2] + arr[3])\n",
    "\n",
    "arr = np.array([[1,2,3,4,5], [6,7,8,9,10]])\n",
    "print('2nd element on 1st row: ', arr[0, 1])\n",
    "\n",
    "arr = np.array([[[1, 2, 3], [4, 5, 6]], [[7, 8, 9], [10, 11, 12]]])\n",
    "print(arr[0, 1, 2])\n",
    "\n"
   ]
  },
  {
   "cell_type": "code",
   "execution_count": 23,
   "id": "edefa353-16ca-4f70-936c-5d075339bed0",
   "metadata": {},
   "outputs": [
    {
     "name": "stdout",
     "output_type": "stream",
     "text": [
      "Matrix-1 :\n",
      "[[1, 2], [2, 3]]\n",
      "Matrix-2 :\n",
      "[[4, 5], [6, 7]]\n",
      "The matrix multiplication is :\n",
      "[[16 19]\n",
      " [26 31]]\n"
     ]
    }
   ],
   "source": [
    "# Matrix Multiplication using NumPy Arrays\n",
    "import numpy as np\n",
    "\n",
    "# creating two matrices\n",
    "p = [[1, 2], [2, 3]]\n",
    "q = [[4, 5], [6, 7]]\n",
    "print(\"Matrix-1 :\")\n",
    "print(p)\n",
    "print(\"Matrix-2 :\")\n",
    "print(q)\n",
    "\n",
    "# computing product\n",
    "result = np.dot(p, q)\n",
    "\n",
    "# printing the result\n",
    "print(\"The matrix multiplication is :\")\n",
    "print(result)\n"
   ]
  },
  {
   "cell_type": "code",
   "execution_count": 8,
   "id": "57b9ca7b-8db2-4a65-bf00-77cb930900f5",
   "metadata": {},
   "outputs": [
    {
     "name": "stdout",
     "output_type": "stream",
     "text": [
      "Last element from 2nd dim:  10\n",
      "[2 3 4 5]\n",
      "[5 6 7]\n",
      "[5 6]\n",
      "[2 4]\n",
      "[1 3 5 7]\n",
      "[7 8 9]\n",
      "[3 8]\n",
      "[[2 3 4]\n",
      " [7 8 9]]\n"
     ]
    }
   ],
   "source": [
    "# Numpy Array Indexing and Slicing\n",
    "import numpy as np\n",
    "\n",
    "# Negative Indexing\n",
    "arr = np.array([[1,2,3,4,5], [6,7,8,9,10]])\n",
    "print('Last element from 2nd dim: ', arr[1, -1])\n",
    "\n",
    "# Slicing arrays\n",
    "arr = np.array([1, 2, 3, 4, 5, 6, 7])\n",
    "print(arr[1:5])\n",
    "print(arr[4:])\n",
    "\n",
    "# Negative Slicing\n",
    "print(arr[-3:-1])\n",
    "print(arr[1:5:2])\n",
    "print(arr[::2])\n",
    "\n",
    "# Slicing 2-D Arrays\n",
    "arr = np.array([[1, 2, 3, 4, 5], [6, 7, 8, 9, 10]])\n",
    "print(arr[1, 1:4])\n",
    "print(arr[0:2, 2])\n",
    "print(arr[0:2, 1:4])\n"
   ]
  },
  {
   "cell_type": "code",
   "execution_count": 18,
   "id": "d15f2ca3-b778-4efe-9cf8-76119a1ef4f4",
   "metadata": {},
   "outputs": [
    {
     "name": "stdout",
     "output_type": "stream",
     "text": [
      "int64\n",
      "<U6\n",
      "|S1\n",
      "int32\n",
      "float64\n",
      "int32\n",
      "[ True False  True]\n",
      "bool\n"
     ]
    }
   ],
   "source": [
    "#NumPy Data Types\n",
    "import numpy as np\n",
    "\n",
    "arr = np.array([1, 2, 3, 4])\n",
    "print(arr.dtype)\n",
    "\n",
    "arr = np.array(['apple', 'banana', 'cherry'])\n",
    "print(arr.dtype)\n",
    "\n",
    "arr = np.array([1, 2, 3, 4], dtype='S')\n",
    "print(arr.dtype)\n",
    "\n",
    "arr = np.array([1, 2, 3, 4], dtype='i4')\n",
    "print(arr.dtype)\n",
    "\n",
    "# arr = np.array(['a', '2', '3'], dtype='i')  ==> Value Error\n",
    "\n",
    "arr = np.array([1.1, 2.1, 3.1])\n",
    "newarr = arr.astype('i')\n",
    "print(arr.dtype)\n",
    "print(newarr.dtype)\n",
    "\n",
    "arr = np.array([1, 0, 3])\n",
    "newarr = arr.astype(bool)\n",
    "print(newarr)\n",
    "print(newarr.dtype)\n"
   ]
  },
  {
   "cell_type": "code",
   "execution_count": 21,
   "id": "f3afa792-96d3-4981-802d-e160b8ee73ad",
   "metadata": {},
   "outputs": [
    {
     "name": "stdout",
     "output_type": "stream",
     "text": [
      " Original Array :  [42  2  3  4  5]\n",
      " View :  [42  2  3  4  5]\n",
      " Copy :  [1 2 3 4 5]\n"
     ]
    }
   ],
   "source": [
    "# VIEW  and COPY Functions\n",
    "import numpy as np\n",
    "\n",
    "arr = np.array([1, 2, 3, 4, 5])\n",
    "x = arr.view()\n",
    "y = arr.copy()\n",
    "arr[0] = 42\n",
    "\n",
    "print(\" Original Array : \",arr)\n",
    "print(\" View : \",x)\n",
    "print(\" Copy : \",y)\n",
    "\n"
   ]
  },
  {
   "cell_type": "code",
   "execution_count": 26,
   "id": "6b2afc73-1a20-4349-bbd9-4184114493ff",
   "metadata": {},
   "outputs": [
    {
     "name": "stdout",
     "output_type": "stream",
     "text": [
      "(2, 4)\n",
      "[[[[[1 2 3 4]]]]]\n",
      "shape of array : (1, 1, 1, 1, 4)\n",
      "[[1 2]\n",
      " [3 4]\n",
      " [5 6]]\n",
      "[[[ 1  2]\n",
      "  [ 3  4]\n",
      "  [ 5  6]]\n",
      "\n",
      " [[ 7  8]\n",
      "  [ 9 10]\n",
      "  [11 12]]]\n"
     ]
    }
   ],
   "source": [
    "# Get the Shape of an Array\n",
    "import numpy as np\n",
    "arr = np.array([[1, 2, 3, 4], [5, 6, 7, 8]])\n",
    "print(arr.shape)\n",
    "\n",
    "arr = np.array([1, 2, 3, 4], ndmin=5)\n",
    "print(arr)\n",
    "print('shape of array :', arr.shape)\n",
    "\n",
    "# Reshaping arrays\n",
    "arr = np.array([1, 2, 3, 4, 5, 6])\n",
    "newarr = arr.reshape(3, 2)\n",
    "print(newarr)\n",
    "\n",
    "arr = np.array([1, 2, 3, 4, 5, 6, 7, 8, 9, 10, 11, 12])\n",
    "newarr = arr.reshape(2, 3, 2)\n",
    "print(newarr)\n",
    "\n"
   ]
  },
  {
   "cell_type": "code",
   "execution_count": 32,
   "id": "f098698d-161e-4ba2-b545-1e95abee1486",
   "metadata": {},
   "outputs": [
    {
     "name": "stdout",
     "output_type": "stream",
     "text": [
      "1\n",
      "2\n",
      "3\n",
      "[1 2 3]\n",
      "[4 5 6]\n",
      "1\n",
      "2\n",
      "3\n",
      "4\n",
      "5\n",
      "6\n",
      "[[1 2 3]\n",
      " [4 5 6]]\n",
      "[[ 7  8  9]\n",
      " [10 11 12]]\n",
      "1\n",
      "2\n",
      "3\n",
      "4\n",
      "5\n",
      "6\n",
      "7\n",
      "8\n",
      "9\n",
      "10\n",
      "11\n",
      "12\n"
     ]
    }
   ],
   "source": [
    "# Iterating Arrays\n",
    "import numpy as np\n",
    "\n",
    "arr = np.array([1, 2, 3])\n",
    "for x in arr:\n",
    "  print(x)\n",
    "\n",
    "arr = np.array([[1, 2, 3], [4, 5, 6]])\n",
    "for x in arr:\n",
    "  print(x)\n",
    "\n",
    "arr = np.array([[1, 2, 3], [4, 5, 6]])\n",
    "for x in arr:\n",
    "  for y in x:\n",
    "    print(y)\n",
    "\n",
    "arr = np.array([[[1, 2, 3], [4, 5, 6]], [[7, 8, 9], [10, 11, 12]]])\n",
    "for x in arr:\n",
    "  print(x)\n",
    "      \n",
    "arr = np.array([[[1, 2, 3], [4, 5, 6]], [[7, 8, 9], [10, 11, 12]]])\n",
    "for x in arr:\n",
    "  for y in x:\n",
    "    for z in y:\n",
    "      print(z)\n",
    "    \n"
   ]
  },
  {
   "cell_type": "code",
   "execution_count": 37,
   "id": "58deabdf-0412-4126-9594-54425070a570",
   "metadata": {},
   "outputs": [
    {
     "name": "stdout",
     "output_type": "stream",
     "text": [
      "1\n",
      "2\n",
      "3\n",
      "4\n",
      "5\n",
      "6\n",
      "7\n",
      "8\n",
      "np.bytes_(b'1')\n",
      "np.bytes_(b'2')\n",
      "np.bytes_(b'3')\n",
      "1\n",
      "3\n",
      "5\n",
      "7\n",
      "(0,) 1\n",
      "(1,) 2\n",
      "(2,) 3\n"
     ]
    }
   ],
   "source": [
    "# nditer() interation\n",
    "\n",
    "import numpy as np\n",
    "\n",
    "arr = np.array([[[1, 2], [3, 4]], [[5, 6], [7, 8]]])\n",
    "for x in np.nditer(arr):\n",
    "  print(x)\n",
    "\n",
    "\n",
    "arr = np.array([1, 2, 3])\n",
    "for x in np.nditer(arr, flags=['buffered'], op_dtypes=['S']):\n",
    "  print(x)\n",
    "    \n",
    "arr = np.array([[1, 2, 3, 4], [5, 6, 7, 8]])\n",
    "for x in np.nditer(arr[:, ::2]):\n",
    "  print(x)\n",
    "\n",
    "arr = np.array([1, 2, 3])\n",
    "for idx, x in np.ndenumerate(arr):\n",
    "  print(idx, x)\n",
    "    \n"
   ]
  },
  {
   "cell_type": "code",
   "execution_count": 8,
   "id": "68c92a00-7d36-4d97-9845-428ae5e8c9e8",
   "metadata": {},
   "outputs": [
    {
     "name": "stdout",
     "output_type": "stream",
     "text": [
      "[1 2 3 4 5 6]\n",
      "[[1 2 5 6]\n",
      " [3 4 7 8]]\n"
     ]
    }
   ],
   "source": [
    "#NumPy Joining Array\n",
    "import numpy as np\n",
    "\n",
    "arr1 = np.array([1, 2, 3])\n",
    "arr2 = np.array([4, 5, 6])\n",
    "arr = np.concatenate((arr1, arr2))\n",
    "print(arr)\n",
    "\n",
    "arr1 = np.array([[1, 2], [3, 4]])\n",
    "arr2 = np.array([[5, 6], [7, 8]])\n",
    "arr = np.concatenate((arr1, arr2), axis=1)\n",
    "print(arr)\n",
    "\n",
    "\n",
    "\n"
   ]
  },
  {
   "cell_type": "code",
   "execution_count": 10,
   "id": "c7620efa-6992-4afd-af2b-519aab183dba",
   "metadata": {},
   "outputs": [
    {
     "name": "stdout",
     "output_type": "stream",
     "text": [
      "[[1 4]\n",
      " [2 5]\n",
      " [3 6]]\n",
      "[1 2 3 4 5 6]\n",
      "[[1 2 3]\n",
      " [4 5 6]]\n"
     ]
    }
   ],
   "source": [
    "# Joining Arrays Using Stack Functions\n",
    "import numpy as np\n",
    "arr1 = np.array([1, 2, 3])\n",
    "arr2 = np.array([4, 5, 6])\n",
    "arr = np.stack((arr1, arr2), axis=1)\n",
    "print(arr)\n",
    "\n",
    "#Stacking Along Rows\n",
    "arr = np.hstack((arr1, arr2))\n",
    "print(arr)\n",
    "\n",
    "#Stacking Along Columns\n",
    "arr = np.vstack((arr1, arr2))\n",
    "print(arr)\n",
    "\n"
   ]
  },
  {
   "cell_type": "code",
   "execution_count": 18,
   "id": "1741f670-5e7d-44ba-9e6f-c71f2c919170",
   "metadata": {},
   "outputs": [
    {
     "name": "stdout",
     "output_type": "stream",
     "text": [
      "[array([1, 2]), array([3, 4]), array([5, 6])]\n",
      "[1 2]\n",
      "[3 4]\n",
      "[5 6]\n",
      "[array([1, 2]), array([3, 4]), array([5]), array([6])]\n",
      "[array([[1, 2],\n",
      "       [3, 4]]), array([[5, 6],\n",
      "       [7, 8]]), array([[ 9, 10],\n",
      "       [11, 12]])]\n"
     ]
    }
   ],
   "source": [
    "#NumPy Splitting Array\n",
    "import numpy as np\n",
    "\n",
    "#Splitting 1-D Arrays\n",
    "arr = np.array([1, 2, 3, 4, 5, 6])\n",
    "newarr = np.array_split(arr, 3)\n",
    "print(newarr)\n",
    "print(newarr[0])\n",
    "print(newarr[1])\n",
    "print(newarr[2])\n",
    "\n",
    "newarr = np.array_split(arr, 4)\n",
    "print(newarr)\n",
    "\n",
    "#Splitting 2-D Arrays\n",
    "arr = np.array([[1, 2], [3, 4], [5, 6], [7, 8], [9, 10], [11, 12]])\n",
    "newarr = np.array_split(arr, 3)\n",
    "print(newarr)\n"
   ]
  },
  {
   "cell_type": "code",
   "execution_count": 20,
   "id": "06191f27-e041-48f0-901a-641c4715f244",
   "metadata": {},
   "outputs": [
    {
     "name": "stdout",
     "output_type": "stream",
     "text": [
      "(array([3, 5, 6]),)\n",
      "(array([1, 3, 5, 7]),)\n"
     ]
    }
   ],
   "source": [
    "# NumPy Searching Arrays\n",
    "import numpy as np\n",
    "\n",
    "arr = np.array([1, 2, 3, 4, 5, 4, 4])\n",
    "x = np.where(arr == 4)\n",
    "print(x)\n",
    "\n",
    "arr = np.array([1, 2, 3, 4, 5, 6, 7, 8])\n",
    "x = np.where(arr%2 == 0)\n",
    "print(x)\n",
    "\n"
   ]
  },
  {
   "cell_type": "code",
   "execution_count": 24,
   "id": "fa5a501e-7b71-4883-99f3-502ee905de6a",
   "metadata": {},
   "outputs": [
    {
     "name": "stdout",
     "output_type": "stream",
     "text": [
      "1\n",
      "2\n",
      "[0 1 2 3]\n",
      "[[2 3 4]\n",
      " [0 1 5]]\n"
     ]
    }
   ],
   "source": [
    "# Search Sorted\n",
    "import numpy as np\n",
    "\n",
    "arr = np.array([6, 7, 8, 9])\n",
    "x = np.searchsorted(arr, 7)\n",
    "print(x)\n",
    "\n",
    "x = np.searchsorted(arr, 7, side='right')\n",
    "print(x)\n",
    "\n",
    "# Sorting Arrays\n",
    "arr = np.array([3, 2, 0, 1])\n",
    "print(np.sort(arr))\n",
    "\n",
    "arr = np.array([[3, 2, 4], [5, 0, 1]])\n",
    "print(np.sort(arr))\n",
    "\n"
   ]
  },
  {
   "cell_type": "code",
   "execution_count": 26,
   "id": "0695f770-9699-4e81-8ac2-ffe6a282f442",
   "metadata": {},
   "outputs": [
    {
     "name": "stdout",
     "output_type": "stream",
     "text": [
      "[41 43]\n",
      "[False, True, False, True, False, True, False]\n",
      "[2 4 6]\n"
     ]
    }
   ],
   "source": [
    "#NumPy Filter Array\n",
    "import numpy as np\n",
    "\n",
    "arr = np.array([41, 42, 43, 44])\n",
    "x = [True, False, True, False]\n",
    "newarr = arr[x]\n",
    "print(newarr)\n",
    "\n",
    "#Create a Filter Array\n",
    "arr = np.array([1, 2, 3, 4, 5, 6, 7])\n",
    "\n",
    "# Create an empty list\n",
    "filter_arr = []\n",
    "\n",
    "# go through each element in arr\n",
    "for element in arr:\n",
    "  # if the element is completely divisble by 2, set the value to True, otherwise False\n",
    "  if element % 2 == 0:\n",
    "    filter_arr.append(True)\n",
    "  else:\n",
    "    filter_arr.append(False)\n",
    "\n",
    "newarr = arr[filter_arr]\n",
    "\n",
    "print(filter_arr)\n",
    "print(newarr)\n"
   ]
  },
  {
   "cell_type": "code",
   "execution_count": 41,
   "id": "31ba7a90-c923-47ca-848a-2b93ce4dc94b",
   "metadata": {},
   "outputs": [
    {
     "name": "stdout",
     "output_type": "stream",
     "text": [
      "30\n",
      "0.9997431146162558\n",
      "[94 29 76 49 23]\n",
      "7\n",
      "[3 5 5 5 5 7 5 7 5 5 7 7 7 7 7 7 7 3 5 7 7 7 5 7 7 5 7 7 5 7 7 7 5 7 7 5 5\n",
      " 7 7 5 7 5 7 7 7 5 5 5 7 7 7 7 7 7 3 7 5 5 7 5 7 5 5 5 7 7 7 7 3 7 7 5 7 7\n",
      " 3 3 5 7 3 5 7 5 7 5 7 5 7 7 7 5 5 3 7 7 7 7 5 5 7 5]\n"
     ]
    }
   ],
   "source": [
    "# Random values\n",
    "from numpy import random\n",
    "\n",
    "# Random integer\n",
    "x = random.randint(100)\n",
    "print(x)\n",
    "\n",
    "# Random float\n",
    "x = random.rand()\n",
    "print(x)\n",
    "\n",
    "# Generate Random Array\n",
    "x=random.randint(100, size=(5))\n",
    "print(x)\n",
    "\n",
    "\n",
    "#choice function\n",
    "x = random.choice([3, 5, 7, 9])\n",
    "print(x)\n",
    "\n",
    "x = random.choice([3, 5, 7, 9], p=[0.1, 0.3, 0.6, 0.0], size=(100))\n",
    "print(x)\n"
   ]
  },
  {
   "cell_type": "code",
   "execution_count": 10,
   "id": "26d70613-3f0c-491b-8810-080271f523a8",
   "metadata": {},
   "outputs": [
    {
     "name": "stdout",
     "output_type": "stream",
     "text": [
      "[[7 7 7 7 5]\n",
      " [5 7 3 5 3]\n",
      " [7 3 7 5 7]]\n",
      " ---------------\n",
      "[3 1 5 2 4]\n",
      " ---------------\n",
      "[5 4 3 2 1]\n"
     ]
    }
   ],
   "source": [
    "import numpy as np\n",
    "from numpy import random\n",
    "\n",
    "# Random Distribution\n",
    "x = random.choice([3, 5, 7, 9], p=[0.1, 0.3, 0.6, 0.0], size=(3, 5))\n",
    "print(x)\n",
    "print(\" ---------------\")\n",
    "# Random Permutations\n",
    "arr = np.array([1, 2, 3, 4, 5])\n",
    "random.shuffle(arr)\n",
    "print(arr)\n",
    "print(\" ---------------\")\n",
    "arr = np.array([1, 2, 3, 4, 5])\n",
    "print(random.permutation(arr))\n",
    "\n"
   ]
  },
  {
   "cell_type": "code",
   "execution_count": null,
   "id": "a2538178-ab5d-43e0-bdf6-df86c181153a",
   "metadata": {},
   "outputs": [],
   "source": []
  },
  {
   "cell_type": "code",
   "execution_count": null,
   "id": "db252328-8825-4205-9300-6823a2763249",
   "metadata": {},
   "outputs": [],
   "source": []
  }
 ],
 "metadata": {
  "kernelspec": {
   "display_name": "Python 3 (ipykernel)",
   "language": "python",
   "name": "python3"
  },
  "language_info": {
   "codemirror_mode": {
    "name": "ipython",
    "version": 3
   },
   "file_extension": ".py",
   "mimetype": "text/x-python",
   "name": "python",
   "nbconvert_exporter": "python",
   "pygments_lexer": "ipython3",
   "version": "3.13.3"
  }
 },
 "nbformat": 4,
 "nbformat_minor": 5
}
