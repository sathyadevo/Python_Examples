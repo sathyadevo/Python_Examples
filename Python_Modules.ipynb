{
 "cells": [
  {
   "cell_type": "code",
   "execution_count": 28,
   "id": "1c0c36b3-7b2f-4347-b704-af333e94b54c",
   "metadata": {},
   "outputs": [
    {
     "name": "stdout",
     "output_type": "stream",
     "text": [
      " Sqrt of 9 :  3.0\n",
      " Factorial Value :  720\n",
      " pow(5,3) :  125.0\n",
      " ceil(5.9) :  6\n",
      " floor(5.9) :  5\n",
      " fabs(-4.7) :  4.7\n",
      " exp(5.2) :  181.27224187515122\n",
      " dist(2,7) :  5.0\n",
      " log(10) :  2.302585092994046\n",
      " =================== \n",
      " pi value :  3.141592653589793\n",
      " Euler's Number :  2.718281828459045\n",
      " tau value :  6.283185307179586\n",
      " Infinity value :  inf\n",
      " Not a Number :  nan\n",
      " =================== \n",
      " sin(30) :  0.49999999999999994\n",
      " cos(45) :  0.7071067811865476\n",
      " tan(60) :  1.7320508075688767\n",
      " asin(30) :  0.5510695830994463\n",
      " acos(45) :  0.6674572160283838\n",
      " atan(60) :  0.808448792630022\n",
      " =================== \n"
     ]
    }
   ],
   "source": [
    "# Python Math module\n",
    "# print(\" DIR - Math \",dir(math))\n",
    "import math  \n",
    "print(\" Sqrt of 9 : \",math.sqrt( 9 ))  \n",
    "#n=int(input(\" Enter a Number : \"))  \n",
    "print(\" Factorial Value : \",math.factorial(6)) \n",
    "print(\" pow(5,3) : \",math.pow(5, 3))\n",
    "print(\" ceil(5.9) : \",math.ceil(5.9))\n",
    "print(\" floor(5.9) : \",math.floor(5.9))\n",
    "print(\" fabs(-4.7) : \",math.fabs(-4.7))\n",
    "print(\" exp(5.2) : \",math.exp(5.2))\n",
    "print(\" dist(2,7) : \",math.dist([2],[7]))\n",
    "print(\" log(10) : \",math.log(10))\n",
    "\n",
    "# Constants in Math Module\n",
    "print(\" =================== \")\n",
    "print(\" pi value : \",math.pi)\n",
    "print(\" Euler's Number : \",math.e)\n",
    "print(\" tau value : \",math.tau)\n",
    "print(\" Infinity value : \",math.inf )\n",
    "print(\" Not a Number : \",math.nan )\n",
    "\n",
    "# Calculating Sine, Cosine, and Tangent\n",
    "print(\" =================== \")\n",
    "print(\" sin(30) : \",math.sin((30*math.pi)/180))\n",
    "print(\" cos(45) : \",math.cos((45*math.pi)/180))\n",
    "print(\" tan(60) : \",math.tan((60*math.pi)/180))\n",
    "print(\" asin(30) : \",math.asin((30*math.pi)/180))\n",
    "print(\" acos(45) : \",math.acos((45*math.pi)/180))\n",
    "print(\" atan(60) : \",math.atan((60*math.pi)/180))\n",
    "print(\" =================== \")\n",
    "\n"
   ]
  },
  {
   "cell_type": "code",
   "execution_count": 35,
   "id": "22910f06-2152-464d-9ba3-872b06f132a9",
   "metadata": {},
   "outputs": [
    {
     "name": "stdout",
     "output_type": "stream",
     "text": [
      " median :  13.0\n",
      " mean :  8\n",
      " mode :  16\n",
      " median_low :  12\n",
      " median_high :  14\n",
      " median_grouped :  1.5\n",
      " harmonic_mean :  8\n",
      " pstdev :  36.09276243237694\n",
      " stdev :  41.67633221226007\n",
      " variance :  1302.6875\n",
      " Median :  11.0\n",
      " Mean :  11\n",
      " Mod  6\n",
      " Standard Deviation :  37.3496987939662\n",
      " Standard Deviation :  33.406586176980134\n",
      " Low Median :  50\n",
      " High Median :  50\n",
      " harmonic mean :  27.397260273972602\n",
      " Median Groups :  0.5\n",
      " Variance :  10\n"
     ]
    }
   ],
   "source": [
    "import statistics\n",
    "#Statistics Function\n",
    "print(\" median : \",statistics.median([8, 10, 12, 14, 16, 18]))\n",
    "print(\" mean : \",statistics.mean([2, 4, 6, 8, 10, 12, 14]))\n",
    "print(\" mode : \",statistics.mode([20, 4, 16, 8, 10, 12, 18, 16]))\n",
    "print(\" median_low : \",statistics.median_low([8, 10, 12, 14, 16, 18]))\n",
    "print(\" median_high : \",statistics.median_high([8, 10, 12, 14, 16, 18]))\n",
    "print(\" median_grouped : \",statistics.median_grouped([1, 2, 3, 4], 3))\n",
    "print(\" harmonic_mean : \",statistics.mean([2, 4, 6, 8, 10, 12, 14]))\n",
    "print(\" pstdev : \",statistics.pstdev([1, 30, 50, 100]))\n",
    "print(\" stdev : \",statistics.stdev([1, 30, 50, 100]))\n",
    "print(\" variance : \",statistics.pvariance([1, 30, 50, 100]))\n",
    "\n",
    "sample = [10, 25, 50 , 80, 100]\n",
    "print(\" Median : \",statistics.median([2, 4, 6, 8, 10, 12, 14, 16, 18, 20]))\n",
    "print(\" Mean : \",statistics.mean([2, 4, 6, 8, 10, 12, 14, 16, 18, 20]))\n",
    "print(\" Mod \",statistics.mode([20, 4, 6, 8, 10, 6, 12, 4, 6, 18, 20]))\n",
    "print(\" Standard Deviation : \",statistics.stdev(sample))\n",
    "print(\" Standard Deviation : \",statistics.pstdev(sample))\n",
    "print(\" Low Median : \",statistics.median_low(sample)) \n",
    "print(\" High Median : \",statistics.median_high(sample))\n",
    "print(\" harmonic mean : \",statistics.harmonic_mean(sample))\n",
    "print(\" Median Groups : \",statistics.median_grouped([1, 2, 3, 4], 5))\n",
    "print(\" Variance : \",statistics.variance([1, 2, 3, 4], 5))\n",
    "\n",
    "\n",
    " # print(\" DIR - Statistics \",dir(statistics))"
   ]
  },
  {
   "cell_type": "code",
   "execution_count": 46,
   "id": "9395a9a9-6135-4916-ac85-82d3a9662f14",
   "metadata": {},
   "outputs": [
    {
     "name": "stdout",
     "output_type": "stream",
     "text": [
      " Random Value :  0.09213685107715974\n",
      " Radint Value :  111\n",
      "0.4700308554361262\n",
      "35\n",
      "4\n",
      "3\n",
      "o\n",
      "54\n",
      "34\n",
      "[23, 86, 34, 65, 43, 23]\n",
      "[43, 65, 23, 23, 86, 34]\n"
     ]
    }
   ],
   "source": [
    "import random\n",
    "print(\" Random Value : \",random.random())\n",
    "print(\" Radint Value : \",random.randint(1, 500))\n",
    "num=random.random()\n",
    "print(num)\n",
    "num=random.randint(1,500)\n",
    "print(num)\n",
    "num = random.randrange(1, 10)\n",
    "print(num)\n",
    "num = random.randrange(1, 10, 2)\n",
    "print(num)\n",
    "\n",
    "random_s = random.choice('Random Module') #a string  \n",
    "print( random_s )  \n",
    "random_l = random.choice([23, 54, 765, 23, 45, 45]) #a list  \n",
    "print( random_l )  \n",
    "random_s = random.choice((12, 64, 23, 54, 34)) #a set  \n",
    "print( random_s )  \n",
    "\n",
    "list1 = [34, 23, 65, 86, 23, 43]    \n",
    "random.shuffle( list1 )    \n",
    "print( list1 )    \n",
    "random.shuffle( list1 )    \n",
    "print( list1 )    \n"
   ]
  },
  {
   "cell_type": "code",
   "execution_count": 48,
   "id": "066b4bc0-9bc9-4a98-97ad-5a1646d9dab8",
   "metadata": {},
   "outputs": [
    {
     "name": "stdout",
     "output_type": "stream",
     "text": [
      " Random Value :  0.3287082088622667\n",
      " Random Integer Value :  410\n",
      " Random Range Value :  3\n",
      " Random Range Value :  3\n",
      " Choice Value :  12\n",
      " Shuffle Values :  [34, 65, 86, 43, 23, 23]\n"
     ]
    }
   ],
   "source": [
    "import random    \n",
    "print(\" Random Value : \",random.random())\n",
    "print(\" Random Integer Value : \",random.randint(1, 500))\n",
    "print(\" Random Range Value : \",random.randrange(1, 10))\n",
    "print(\" Random Range Value : \",random.randrange(1, 10,2))\n",
    "print(\" Choice Value : \",random.choice([12, 64, 23, 54, 34]))\n",
    "mylist = [34, 23, 65, 86, 23, 43]    \n",
    "random.shuffle(mylist)    \n",
    "print(\" Shuffle Values : \",mylist)   \n"
   ]
  },
  {
   "cell_type": "code",
   "execution_count": null,
   "id": "3e3a6f23-968c-4019-b62f-fd7c54c7b0e2",
   "metadata": {},
   "outputs": [],
   "source": []
  },
  {
   "cell_type": "code",
   "execution_count": 8,
   "id": "8378ccc9-309a-4438-af5d-504ecc878819",
   "metadata": {},
   "outputs": [
    {
     "name": "stdout",
     "output_type": "stream",
     "text": [
      "404\n",
      "{'Date': 'Sat, 10 May 2025 04:28:41 GMT', 'Server': 'Apache', 'Expires': 'Wed, 11 Jan 1984 05:00:00 GMT', 'Cache-Control': 'no-cache, must-revalidate, max-age=0, no-store, private', 'Link': '<https://sathyatech.com/wp-json/>; rel=\"https://api.w.org/\"', 'Upgrade': 'h2', 'Connection': 'Upgrade, Keep-Alive', 'Keep-Alive': 'timeout=5, max=100', 'Content-Type': 'text/html; charset=UTF-8'}\n"
     ]
    }
   ],
   "source": [
    "# python request method\n",
    "import requests\n",
    "#print(\" DIR - Requests \",dir(requests))\n",
    "\n",
    "x = requests.get(\"https://sathyatech.com/class-room-schedules/\")\n",
    "print(x.status_code)\n",
    "print(x.headers)\n",
    "#print(x.text)\n",
    "\n"
   ]
  },
  {
   "cell_type": "code",
   "execution_count": 14,
   "id": "a87d7c09-2574-4d4b-8506-0779b5424ac6",
   "metadata": {},
   "outputs": [
    {
     "name": "stdout",
     "output_type": "stream",
     "text": [
      "\n",
      "Original String Sathya Tech, HELLO world!\n",
      "SATHYA TECH, HELLO WORLD!\n",
      "sathya tech, hello world!\n",
      "Sathya Tech, Hello World!\n",
      "sATHYA tECH, hello WORLD!\n",
      "Sathya tech, hello world!\n",
      "True\n",
      "False\n",
      "False\n",
      "True\n",
      "True\n",
      "False\n"
     ]
    }
   ],
   "source": [
    "# Python String Functions\n",
    "text = 'Sathya Tech, HELLO world!'\n",
    "\n",
    "# original string never changes\n",
    "print(\"\\nOriginal String\",text)\n",
    "\n",
    "# string to upper case\n",
    "print(text.upper())\n",
    "\n",
    "# string to lower case\n",
    "print(text.lower())\n",
    "\n",
    "# upper case and rest to lower case \n",
    "print(text.title())\n",
    "\n",
    "# upper case character to lowercase and viceversa\n",
    "print(text.swapcase())\n",
    "\n",
    "# convert the first character of a string to uppercase\n",
    "print(text.capitalize())\n",
    "\n",
    "txt = \"Hello9\"\n",
    "x = txt.isalnum()\n",
    "print(x)\n",
    "x = txt.isalpha()\n",
    "print(x)\n",
    "x = txt.isdecimal()\n",
    "print(x)\n",
    "x = txt.isascii()\n",
    "print(x)\n",
    "x = txt.isidentifier()\n",
    "print(x)\n",
    "txt = \"Hello world\"\n",
    "x = txt.isidentifier()\n",
    "print(x)"
   ]
  },
  {
   "cell_type": "code",
   "execution_count": 15,
   "id": "255e0637-0955-410f-acb9-52a3c2f1f69c",
   "metadata": {},
   "outputs": [
    {
     "name": "stdout",
     "output_type": "stream",
     "text": [
      "abcdefghijklmnopqrstuvwxyzABCDEFGHIJKLMNOPQRSTUVWXYZ\n",
      "abcdefghijklmnopqrstuvwxyz\n",
      "ABCDEFGHIJKLMNOPQRSTUVWXYZ\n",
      "0123456789\n",
      "0123456789abcdefABCDEF\n",
      " \t\n",
      "\u000b",
      "\f",
      "\n",
      "!\"#$%&'()*+,-./:;<=>?@[\\]^_`{|}~\n"
     ]
    }
   ],
   "source": [
    "import string\n",
    "\n",
    "# string module constants\n",
    "print(string.ascii_letters)\n",
    "print(string.ascii_lowercase)\n",
    "print(string.ascii_uppercase)\n",
    "print(string.digits)\n",
    "print(string.hexdigits)\n",
    "print(string.whitespace)  # ' \\t\\n\\r\\x0b\\x0c'\n",
    "print(string.punctuation)"
   ]
  },
  {
   "cell_type": "code",
   "execution_count": 21,
   "id": "ea6f1445-f382-4a08-9fbe-23eb1959c6c5",
   "metadata": {},
   "outputs": [
    {
     "name": "stdout",
     "output_type": "stream",
     "text": [
      "Welcome To Sathya Tech\n",
      "SathyaTech\n",
      "Welcome to SathyaTech\n",
      "Welcome to SathyaTech\n",
      "Guido van rossum is the Founder of Python\n"
     ]
    }
   ],
   "source": [
    "import string\n",
    "from string import Formatter\n",
    "from string import Template\n",
    "\n",
    "s = \"  welcome TO  \\n\\n SATHYA TECH\"\n",
    "print(string.capwords(s))\n",
    "\n",
    "formatter = Formatter()\n",
    "print(formatter.format('{website}', website='SathyaTech'))\n",
    "print(formatter.format('{} {website}', 'Welcome to', website='SathyaTech'))\n",
    "\n",
    "# format() behaves in similar manner\n",
    "print('{} {website}'.format('Welcome to', website='SathyaTech'))\n",
    "\n",
    "\n",
    "t = Template('$name is the $title of $company')\n",
    "s = t.substitute(name='Guido van rossum', title='Founder', company='Python')\n",
    "print(s)"
   ]
  },
  {
   "cell_type": "code",
   "execution_count": 22,
   "id": "fe43b506-3074-4f2b-80b2-702e7fbfa5cd",
   "metadata": {},
   "outputs": [
    {
     "name": "stdout",
     "output_type": "stream",
     "text": [
      "ath\n",
      "Sat\n",
      "hyTech, Python\n",
      "nohtyP ,hceTyhtaS\n"
     ]
    }
   ],
   "source": [
    "# Python String Slicing\n",
    "s = \"SathyTech, Python\"\n",
    "\n",
    "# Retrieves characters from index 1 to 3\n",
    "print(s[1:4])  \n",
    "\n",
    "# Retrieves characters from beginning to index 2\n",
    "print(s[:3])   \n",
    "\n",
    "# Retrieves characters from index 3 to the end\n",
    "print(s[3:])   \n",
    "\n",
    "# Reverse a string\n",
    "print(s[::-1])\n",
    "\n"
   ]
  },
  {
   "cell_type": "code",
   "execution_count": 25,
   "id": "1d8c9349-fcee-4d6f-9d09-40b9385b41b4",
   "metadata": {},
   "outputs": [
    {
     "name": "stdout",
     "output_type": "stream",
     "text": [
      " String Length :  12\n",
      "Hello Sathya\n",
      "hello Python\n",
      "HELLO SATHYA\n",
      "hello sathya\n",
      "Name: Sathya, Age: 22\n"
     ]
    }
   ],
   "source": [
    "s = \"hello Sathya\"\n",
    "\n",
    "print(\" String Length : \",len(s))\n",
    "# Updating by creating a new string\n",
    "s1 = \"H\" + s[1:]\n",
    "s2 = s.replace(\"Sathya\", \"Python\")\n",
    "print(s1)\n",
    "print(s2)\n",
    "\n",
    "print(s.upper())\n",
    "print(s.lower())\n",
    "\n",
    "name = \"Sathya\"\n",
    "age = 22\n",
    "print(f\"Name: {name}, Age: {age}\")\n"
   ]
  },
  {
   "cell_type": "code",
   "execution_count": null,
   "id": "ef77947e-28f4-4048-b6c1-08c1dc5043ef",
   "metadata": {},
   "outputs": [],
   "source": []
  }
 ],
 "metadata": {
  "kernelspec": {
   "display_name": "Python 3 (ipykernel)",
   "language": "python",
   "name": "python3"
  },
  "language_info": {
   "codemirror_mode": {
    "name": "ipython",
    "version": 3
   },
   "file_extension": ".py",
   "mimetype": "text/x-python",
   "name": "python",
   "nbconvert_exporter": "python",
   "pygments_lexer": "ipython3",
   "version": "3.13.3"
  }
 },
 "nbformat": 4,
 "nbformat_minor": 5
}
