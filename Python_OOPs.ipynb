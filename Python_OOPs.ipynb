{
 "cells": [
  {
   "cell_type": "code",
   "execution_count": 1,
   "id": "b0d0b7a7-b2c3-4015-bf9e-4b30c2fe5883",
   "metadata": {},
   "outputs": [
    {
     "name": "stdout",
     "output_type": "stream",
     "text": [
      "Name: Mountain Bike, Gears: 11 \n"
     ]
    }
   ],
   "source": [
    "# define a class\n",
    "class Bike:\n",
    "    name = \"\"\n",
    "    gear = 0\n",
    "\n",
    "# create object of class\n",
    "bike1 = Bike()\n",
    "\n",
    "# access attributes and assign new values\n",
    "bike1.gear = 11\n",
    "bike1.name = \"Mountain Bike\"\n",
    "\n",
    "print(f\"Name: {bike1.name}, Gears: {bike1.gear} \")\n"
   ]
  },
  {
   "cell_type": "code",
   "execution_count": 2,
   "id": "9eaa6c76-1672-44a1-90ab-b2a022c3e460",
   "metadata": {},
   "outputs": [
    {
     "name": "stdout",
     "output_type": "stream",
     "text": [
      "Name: JOHN, Course: Machine Learning \n",
      "Name: RAVI, Course: Gen AI \n"
     ]
    }
   ],
   "source": [
    "#Create Multiple Objects \n",
    "class Student:\n",
    "    name = \"\"\n",
    "    course = \"\"\n",
    "\n",
    "# create object of class\n",
    "st1 = Student()\n",
    "st2 = Student()\n",
    "\n",
    "# access attributes and assign new values\n",
    "st1.name = \"JOHN\"\n",
    "st1.course = \"Machine Learning\"\n",
    "st2.name = \"RAVI\"\n",
    "st2.course = \"Gen AI\"\n",
    "\n",
    "print(f\"Name: {st1.name}, Course: {st1.course} \")\n",
    "print(f\"Name: {st2.name}, Course: {st2.course} \")\n"
   ]
  },
  {
   "cell_type": "code",
   "execution_count": 5,
   "id": "9dbe8779-9ecd-4b1e-a112-3002b6b2381a",
   "metadata": {},
   "outputs": [
    {
     "name": "stdout",
     "output_type": "stream",
     "text": [
      "Area of Room = 1309.0\n"
     ]
    }
   ],
   "source": [
    "# Python Class Methods\n",
    "class Room:\n",
    "    length = 0.0\n",
    "    breadth = 0.0\n",
    "\n",
    "    # method to calculate area\n",
    "    def calc_area(self):\n",
    "       print(\"Area of Room =\", self.length * self.breadth)\n",
    "\n",
    "# create object of Room class\n",
    "study_room = Room()\n",
    "\n",
    "# assign values to all the properties \n",
    "study_room.length = 42.5\n",
    "study_room.breadth = 30.8\n",
    "\n",
    "# access method inside class\n",
    "study_room.calc_area()\n"
   ]
  },
  {
   "cell_type": "code",
   "execution_count": 7,
   "id": "bb7af250-3870-49ef-99f0-1cdb0e3c8c80",
   "metadata": {},
   "outputs": [
    {
     "name": "stdout",
     "output_type": "stream",
     "text": [
      "John\n",
      "36\n"
     ]
    }
   ],
   "source": [
    "# __init__() Function\n",
    "class Person:\n",
    "  def __init__(self, name, age):\n",
    "    self.name = name\n",
    "    self.age = age\n",
    "\n",
    "p1 = Person(\"John\", 36)\n",
    "\n",
    "print(p1.name)\n",
    "print(p1.age) \n"
   ]
  },
  {
   "cell_type": "code",
   "execution_count": 8,
   "id": "1f76ef07-32c5-49bd-b923-217aeed06256",
   "metadata": {},
   "outputs": [
    {
     "name": "stdout",
     "output_type": "stream",
     "text": [
      "John(36)\n"
     ]
    }
   ],
   "source": [
    "\n"
   ]
  },
  {
   "cell_type": "code",
   "execution_count": 9,
   "id": "24eb68fe-b1a1-4572-b8e8-84084aee8734",
   "metadata": {},
   "outputs": [
    {
     "name": "stdout",
     "output_type": "stream",
     "text": [
      "<__main__.Person object at 0x000001F9E0FF42F0>\n"
     ]
    }
   ],
   "source": [
    "# WITHOUT __str__() function:\n",
    "class Person:\n",
    "  def __init__(self, name, age):\n",
    "    self.name = name\n",
    "    self.age = age\n",
    "\n",
    "p1 = Person(\"John\", 36)\n",
    "\n",
    "print(p1) \n"
   ]
  },
  {
   "cell_type": "code",
   "execution_count": 10,
   "id": "d3ad27b6-6bf4-4125-9b97-619b43125cb6",
   "metadata": {},
   "outputs": [
    {
     "name": "stdout",
     "output_type": "stream",
     "text": [
      "John(36)\n"
     ]
    }
   ],
   "source": [
    "# WITH the __str__() function:\n",
    "class Person:\n",
    "  def __init__(self, name, age):\n",
    "    self.name = name\n",
    "    self.age = age\n",
    "\n",
    "  def __str__(self):\n",
    "    return f\"{self.name}({self.age})\"\n",
    "\n",
    "p1 = Person(\"John\", 36)\n",
    "\n",
    "print(p1) "
   ]
  },
  {
   "cell_type": "code",
   "execution_count": 17,
   "id": "26ae56c2-415a-4520-9f2b-e768d7dab2ce",
   "metadata": {},
   "outputs": [
    {
     "name": "stdout",
     "output_type": "stream",
     "text": [
      "name  John\n",
      "age  36\n"
     ]
    }
   ],
   "source": [
    "# Object Methods\n",
    "class Person:\n",
    "  def __init__(self, name, age):\n",
    "    self.name = name\n",
    "    self.age = age\n",
    "\n",
    "  def myfunc(self):\n",
    "    print(\"name \",self.name)\n",
    "    print(\"age \",self.age)\n",
    "\n",
    "p1 = Person(\"John\", 36)\n",
    "p1.myfunc() \n",
    "del p1 \n"
   ]
  },
  {
   "cell_type": "code",
   "execution_count": 18,
   "id": "03551363-a06a-473d-be22-36860e9486da",
   "metadata": {},
   "outputs": [
    {
     "name": "stdout",
     "output_type": "stream",
     "text": [
      "This is parametrized constructor\n",
      "Hello John\n"
     ]
    }
   ],
   "source": [
    "#  Parameterized constructor\n",
    "class Student:  \n",
    "   # Constructor - parameterized  \n",
    "   def __init__(self, name):  \n",
    "       print(\"This is parametrized constructor\")  \n",
    "       self.name = name  \n",
    "   def show(self):  \n",
    "       print(\"Hello\",self.name)  \n",
    "\n",
    "student = Student(\"John\")  \n",
    "student.show()    \n",
    "\n"
   ]
  },
  {
   "cell_type": "code",
   "execution_count": 19,
   "id": "bd300e30-8fd7-4fc3-849c-afe35cbba9b0",
   "metadata": {},
   "outputs": [
    {
     "name": "stdout",
     "output_type": "stream",
     "text": [
      "This is non parametrized constructor\n",
      "Hello John\n"
     ]
    }
   ],
   "source": [
    "# Non-Parameterized Contructor\n",
    "class Student:  \n",
    "    # Constructor - non parameterized  \n",
    "    def __init__(self):  \n",
    "        print(\"This is non parametrized constructor\")  \n",
    "    def show(self,name):  \n",
    "        print(\"Hello\",name)  \n",
    "student = Student()  \n",
    "student.show(\"John\")      \n"
   ]
  },
  {
   "cell_type": "code",
   "execution_count": null,
   "id": "9575410f-a6eb-4479-b74d-e3cc16695e1e",
   "metadata": {},
   "outputs": [],
   "source": []
  }
 ],
 "metadata": {
  "kernelspec": {
   "display_name": "Python 3 (ipykernel)",
   "language": "python",
   "name": "python3"
  },
  "language_info": {
   "codemirror_mode": {
    "name": "ipython",
    "version": 3
   },
   "file_extension": ".py",
   "mimetype": "text/x-python",
   "name": "python",
   "nbconvert_exporter": "python",
   "pygments_lexer": "ipython3",
   "version": "3.13.3"
  }
 },
 "nbformat": 4,
 "nbformat_minor": 5
}
