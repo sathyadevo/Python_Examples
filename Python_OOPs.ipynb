{
 "cells": [
  {
   "cell_type": "code",
   "execution_count": 1,
   "id": "b0d0b7a7-b2c3-4015-bf9e-4b30c2fe5883",
   "metadata": {},
   "outputs": [
    {
     "name": "stdout",
     "output_type": "stream",
     "text": [
      "Name: Mountain Bike, Gears: 11 \n"
     ]
    }
   ],
   "source": [
    "# define a class\n",
    "class Bike:\n",
    "    name = \"\"\n",
    "    gear = 0\n",
    "\n",
    "# create object of class\n",
    "bike1 = Bike()\n",
    "\n",
    "# access attributes and assign new values\n",
    "bike1.gear = 11\n",
    "bike1.name = \"Mountain Bike\"\n",
    "\n",
    "print(f\"Name: {bike1.name}, Gears: {bike1.gear} \")\n"
   ]
  },
  {
   "cell_type": "code",
   "execution_count": 2,
   "id": "9eaa6c76-1672-44a1-90ab-b2a022c3e460",
   "metadata": {},
   "outputs": [
    {
     "name": "stdout",
     "output_type": "stream",
     "text": [
      "Name: JOHN, Course: Machine Learning \n",
      "Name: RAVI, Course: Gen AI \n"
     ]
    }
   ],
   "source": [
    "#Create Multiple Objects \n",
    "class Student:\n",
    "    name = \"\"\n",
    "    course = \"\"\n",
    "\n",
    "# create object of class\n",
    "st1 = Student()\n",
    "st2 = Student()\n",
    "\n",
    "# access attributes and assign new values\n",
    "st1.name = \"JOHN\"\n",
    "st1.course = \"Machine Learning\"\n",
    "st2.name = \"RAVI\"\n",
    "st2.course = \"Gen AI\"\n",
    "\n",
    "print(f\"Name: {st1.name}, Course: {st1.course} \")\n",
    "print(f\"Name: {st2.name}, Course: {st2.course} \")\n"
   ]
  },
  {
   "cell_type": "code",
   "execution_count": 5,
   "id": "9dbe8779-9ecd-4b1e-a112-3002b6b2381a",
   "metadata": {},
   "outputs": [
    {
     "name": "stdout",
     "output_type": "stream",
     "text": [
      "Area of Room = 1309.0\n"
     ]
    }
   ],
   "source": [
    "# Python Class Methods\n",
    "class Room:\n",
    "    length = 0.0\n",
    "    breadth = 0.0\n",
    "\n",
    "    # method to calculate area\n",
    "    def calc_area(self):\n",
    "       print(\"Area of Room =\", self.length * self.breadth)\n",
    "\n",
    "# create object of Room class\n",
    "study_room = Room()\n",
    "\n",
    "# assign values to all the properties \n",
    "study_room.length = 42.5\n",
    "study_room.breadth = 30.8\n",
    "\n",
    "# access method inside class\n",
    "study_room.calc_area()\n"
   ]
  },
  {
   "cell_type": "code",
   "execution_count": 7,
   "id": "bb7af250-3870-49ef-99f0-1cdb0e3c8c80",
   "metadata": {},
   "outputs": [
    {
     "name": "stdout",
     "output_type": "stream",
     "text": [
      "John\n",
      "36\n"
     ]
    }
   ],
   "source": [
    "# __init__() Function\n",
    "class Person:\n",
    "  def __init__(self, name, age):\n",
    "    self.name = name\n",
    "    self.age = age\n",
    "\n",
    "p1 = Person(\"John\", 36)\n",
    "\n",
    "print(p1.name)\n",
    "print(p1.age) \n"
   ]
  },
  {
   "cell_type": "code",
   "execution_count": 8,
   "id": "1f76ef07-32c5-49bd-b923-217aeed06256",
   "metadata": {},
   "outputs": [
    {
     "name": "stdout",
     "output_type": "stream",
     "text": [
      "John(36)\n"
     ]
    }
   ],
   "source": [
    "\n"
   ]
  },
  {
   "cell_type": "code",
   "execution_count": 9,
   "id": "24eb68fe-b1a1-4572-b8e8-84084aee8734",
   "metadata": {},
   "outputs": [
    {
     "name": "stdout",
     "output_type": "stream",
     "text": [
      "<__main__.Person object at 0x000001F9E0FF42F0>\n"
     ]
    }
   ],
   "source": [
    "# WITHOUT __str__() function:\n",
    "class Person:\n",
    "  def __init__(self, name, age):\n",
    "    self.name = name\n",
    "    self.age = age\n",
    "\n",
    "p1 = Person(\"John\", 36)\n",
    "\n",
    "print(p1) \n"
   ]
  },
  {
   "cell_type": "code",
   "execution_count": 10,
   "id": "d3ad27b6-6bf4-4125-9b97-619b43125cb6",
   "metadata": {},
   "outputs": [
    {
     "name": "stdout",
     "output_type": "stream",
     "text": [
      "John(36)\n"
     ]
    }
   ],
   "source": [
    "# WITH the __str__() function:\n",
    "class Person:\n",
    "  def __init__(self, name, age):\n",
    "    self.name = name\n",
    "    self.age = age\n",
    "\n",
    "  def __str__(self):\n",
    "    return f\"{self.name}({self.age})\"\n",
    "\n",
    "p1 = Person(\"John\", 36)\n",
    "\n",
    "print(p1) "
   ]
  },
  {
   "cell_type": "code",
   "execution_count": 17,
   "id": "26ae56c2-415a-4520-9f2b-e768d7dab2ce",
   "metadata": {},
   "outputs": [
    {
     "name": "stdout",
     "output_type": "stream",
     "text": [
      "name  John\n",
      "age  36\n"
     ]
    }
   ],
   "source": [
    "# Object Methods\n",
    "class Person:\n",
    "  def __init__(self, name, age):\n",
    "    self.name = name\n",
    "    self.age = age\n",
    "\n",
    "  def myfunc(self):\n",
    "    print(\"name \",self.name)\n",
    "    print(\"age \",self.age)\n",
    "\n",
    "p1 = Person(\"John\", 36)\n",
    "p1.myfunc() \n",
    "del p1 \n"
   ]
  },
  {
   "cell_type": "code",
   "execution_count": 18,
   "id": "03551363-a06a-473d-be22-36860e9486da",
   "metadata": {},
   "outputs": [
    {
     "name": "stdout",
     "output_type": "stream",
     "text": [
      "This is parametrized constructor\n",
      "Hello John\n"
     ]
    }
   ],
   "source": [
    "#  Parameterized constructor\n",
    "class Student:  \n",
    "   # Constructor - parameterized  \n",
    "   def __init__(self, name):  \n",
    "       print(\"This is parametrized constructor\")  \n",
    "       self.name = name  \n",
    "   def show(self):  \n",
    "       print(\"Hello\",self.name)  \n",
    "\n",
    "student = Student(\"John\")  \n",
    "student.show()    \n",
    "\n"
   ]
  },
  {
   "cell_type": "code",
   "execution_count": 19,
   "id": "bd300e30-8fd7-4fc3-849c-afe35cbba9b0",
   "metadata": {},
   "outputs": [
    {
     "name": "stdout",
     "output_type": "stream",
     "text": [
      "This is non parametrized constructor\n",
      "Hello John\n"
     ]
    }
   ],
   "source": [
    "# Non-Parameterized Contructor\n",
    "class Student:  \n",
    "    # Constructor - non parameterized  \n",
    "    def __init__(self):  \n",
    "        print(\"This is non parametrized constructor\")  \n",
    "    def show(self,name):  \n",
    "        print(\"Hello\",name)  \n",
    "student = Student()  \n",
    "student.show(\"John\")      \n"
   ]
  },
  {
   "cell_type": "code",
   "execution_count": 1,
   "id": "9575410f-a6eb-4479-b74d-e3cc16695e1e",
   "metadata": {},
   "outputs": [
    {
     "name": "stdout",
     "output_type": "stream",
     "text": [
      " Hello from Base Class!\n",
      " Sudent Name: JOHN \n",
      " Hi! from Derived Class!\n",
      " Sudent Name: JOHN \n",
      " Student Course : B.Tech\n"
     ]
    }
   ],
   "source": [
    "# Single Inheritance\n",
    "\n",
    "class Student:\n",
    "    def __init__(self):\n",
    "        print(\" Hello from Base Class!\")\n",
    "    def getData(self):\n",
    "        print(\" Sudent Name: JOHN \")\n",
    "\n",
    "class BTech(Student):\n",
    "    def __init__(self):\n",
    "        print(\" Hi! from Derived Class!\")\n",
    "    def setData(self):\n",
    "        print(\" Student Course : B.Tech\")\n",
    "\n",
    "s=Student()\n",
    "s.getData()\n",
    "b=BTech()\n",
    "b.getData()\n",
    "b.setData()\n"
   ]
  },
  {
   "cell_type": "code",
   "execution_count": 2,
   "id": "c9251ce2-6bf1-4944-8e6a-d2e9583e13b5",
   "metadata": {},
   "outputs": [
    {
     "name": "stdout",
     "output_type": "stream",
     "text": [
      " ... RD class default Constructor!\n",
      " Bank Name : SBI Bank\n",
      " Account Number: 123456789 \n",
      " Account Balance : 50000.00 \n"
     ]
    }
   ],
   "source": [
    "# Multi-level Inheritance\n",
    "class Bank:\n",
    "    def __init__(self):\n",
    "        print(\" ... Bank class default Constructor!\")\n",
    "    def getData(self):\n",
    "        print(\" Bank Name : SBI Bank\")\n",
    "\n",
    "class Savings(Bank):\n",
    "    def __init__(self):\n",
    "        print(\" ... Savings class default Constructor!\")\n",
    "    def setData(self):\n",
    "        print(\" Account Number: 123456789 \")\n",
    "\n",
    "class RD(Savings):\n",
    "    def __init__(self):\n",
    "        print(\" ... RD class default Constructor!\")\n",
    "    def putData(self):\n",
    "        print(\" Account Balance : 50000.00 \")\n",
    "\n",
    "r=RD()\n",
    "r.getData()\n",
    "r.setData()\n",
    "r.putData()"
   ]
  },
  {
   "cell_type": "code",
   "execution_count": 4,
   "id": "db3bba44-e402-483a-8f0a-adafb04603b8",
   "metadata": {},
   "outputs": [
    {
     "name": "stdout",
     "output_type": "stream",
     "text": [
      " Addition :  30\n",
      " Multiplication :  200\n",
      " Division :  0.5\n"
     ]
    }
   ],
   "source": [
    "# Multiple Inheritance\n",
    "class Calculation1:  \n",
    "   def Summation(self,a,b):  \n",
    "     return a+b;  \n",
    "\n",
    "class Calculation2:  \n",
    "   def Multiplication(self,a,b):  \n",
    "     return a*b;  \n",
    "       \n",
    "class Derived(Calculation1,Calculation2):  \n",
    "   def Divide(self,a,b):  \n",
    "     return a/b;  \n",
    "       \n",
    "d = Derived()  \n",
    "print(\" Addition : \",d.Summation(10,20))  \n",
    "print(\" Multiplication : \",d.Multiplication(10,20))  \n",
    "print(\" Division : \",d.Divide(10,20))  \n"
   ]
  },
  {
   "cell_type": "code",
   "execution_count": 6,
   "id": "51afd8d4-58a7-45a4-85e6-64d506615c68",
   "metadata": {},
   "outputs": [
    {
     "name": "stdout",
     "output_type": "stream",
     "text": [
      " isSubClass :  True\n",
      " isSubClass :  False\n",
      " isInstance :  True\n"
     ]
    }
   ],
   "source": [
    "# isSubClass and isInstance\n",
    "class Calculation1:  \n",
    "   def Summation(self,a,b):  \n",
    "     return a+b;  \n",
    "\n",
    "class Calculation2:  \n",
    "   def Multiplication(self,a,b):  \n",
    "     return a*b;  \n",
    "       \n",
    "class Derived(Calculation1,Calculation2):  \n",
    "   def Divide(self,a,b):  \n",
    "     return a/b;\n",
    "\n",
    "d=Derived()\n",
    "print(\" isSubClass : \",issubclass(Derived,Calculation2))  \n",
    "print(\" isSubClass : \",issubclass(Calculation1,Calculation2)) \n",
    "print(\" isInstance : \",isinstance(d,Derived))  \n"
   ]
  },
  {
   "cell_type": "code",
   "execution_count": 7,
   "id": "f88828a2-f485-45bb-859a-473303e9734d",
   "metadata": {},
   "outputs": [
    {
     "name": "stdout",
     "output_type": "stream",
     "text": [
      " Area of Square :  25\n",
      " Area of Circle :  50.24\n"
     ]
    }
   ],
   "source": [
    "# Method Overriding\n",
    "class Circle:\n",
    "    def area(self,n):\n",
    "        print(\" Area of Circle : \",3.14*n*n)\n",
    "\n",
    "class Square(Circle):\n",
    "    def area(self,n):\n",
    "        print(\" Area of Square : \",n*n)\n",
    "\n",
    "s=Square()\n",
    "s.area(5)\n",
    "c=Circle()\n",
    "c.area(4)\n",
    "\n"
   ]
  },
  {
   "cell_type": "code",
   "execution_count": 1,
   "id": "398857cc-f545-4078-9b99-36c0146a06fd",
   "metadata": {},
   "outputs": [
    {
     "name": "stdout",
     "output_type": "stream",
     "text": [
      " Count Value :  1\n"
     ]
    }
   ],
   "source": [
    "#Data abstraction \n",
    "class Demo:\n",
    "    __count=0\n",
    "    def __init__(self):\n",
    "        Demo.__count=Demo.__count+1\n",
    "\n",
    "    def display(self):\n",
    "        print(\" Count Value : \",Demo.__count)\n",
    "\n",
    "d=Demo()\n",
    "try:\n",
    "    print(\" Try block Count Value : \",d.count)\n",
    "except:\n",
    "    d.display()\n"
   ]
  },
  {
   "cell_type": "code",
   "execution_count": 3,
   "id": "205d8f5b-6682-4897-b43b-e9464ae12997",
   "metadata": {},
   "outputs": [
    {
     "name": "stdout",
     "output_type": "stream",
     "text": [
      " Result Value :  30\n",
      " Result Value :  135.26\n",
      " Result Value :  HELLO WORLD\n",
      " Result Value :  (14+9j)\n"
     ]
    }
   ],
   "source": [
    "#Function Polymorphism\n",
    "class Demo:\n",
    "    def operation(self,a,b):\n",
    "        print(\" Result Value : \",a+b)\n",
    "\n",
    "d=Demo()\n",
    "d.operation(10,20)\n",
    "d.operation(45.5,89.76)\n",
    "d.operation(\"HELLO\",\" WORLD\")\n",
    "d.operation(5+6j,9+3j)\n"
   ]
  },
  {
   "cell_type": "code",
   "execution_count": 6,
   "id": "07482630-dd09-4f9f-b3a4-2859c17e36d4",
   "metadata": {},
   "outputs": [
    {
     "name": "stdout",
     "output_type": "stream",
     "text": [
      "a Car can Drive!\n",
      "Brand :  Ford  Model :  Mustang\n",
      "a Plan can Fly!\n",
      "Brand :  Boeing  Model :  747\n"
     ]
    }
   ],
   "source": [
    "#Class Polymorphism\n",
    "class Car:\n",
    "  def __init__(self, brand, model):\n",
    "    self.brand = brand\n",
    "    self.model = model\n",
    "\n",
    "  def move(self):\n",
    "    print(\"a Car can Drive!\")\n",
    "    print(\"Brand : \",self.brand,\" Model : \",self.model)\n",
    "      \n",
    "class Plane:\n",
    "  def __init__(self, brand, model):\n",
    "    self.brand = brand\n",
    "    self.model = model\n",
    "\n",
    "  def move(self):\n",
    "    print(\"a Plan can Fly!\")\n",
    "    print(\"Brand : \",self.brand,\" Model : \",self.model)\n",
    "\n",
    "car1 = Car(\"Ford\", \"Mustang\")       #Create a Car class\n",
    "plane1 = Plane(\"Boeing\", \"747\")     #Create a Plane class\n",
    "\n",
    "for x in (car1, plane1):\n",
    "  x.move()\n"
   ]
  },
  {
   "cell_type": "code",
   "execution_count": 5,
   "id": "c2150aa0-fc63-4444-a320-7aad212cb20b",
   "metadata": {},
   "outputs": [
    {
     "name": "stdout",
     "output_type": "stream",
     "text": [
      "Ford  :  Mustang\n",
      "a Vehicle can Move!\n",
      "Ibiza  :  Touring\n",
      "a Boat can Sail!\n"
     ]
    }
   ],
   "source": [
    "#Inheritance Class Polymorphism\n",
    "class Vehicle:\n",
    "  def __init__(self, brand, model):\n",
    "    self.brand = brand\n",
    "    self.model = model\n",
    "\n",
    "  def move(self):\n",
    "    print(\"a Vehicle can Move!\")\n",
    "\n",
    "class Car(Vehicle):\n",
    "  pass\n",
    "\n",
    "class Boat(Vehicle):\n",
    "  def move(self):\n",
    "    print(\"a Boat can Sail!\")\n",
    "\n",
    "car1 = Car(\"Ford\", \"Mustang\") #Create a Car object\n",
    "boat1 = Boat(\"Ibiza\", \"Touring\") #Create a Boat object\n",
    "\n",
    "for x in (car1, boat1):\n",
    "  print(x.brand,\" : \",x.model)\n",
    "  x.move()\n"
   ]
  },
  {
   "cell_type": "code",
   "execution_count": 8,
   "id": "92b9dae0-c97d-4007-9e59-737f5eda9bc3",
   "metadata": {},
   "outputs": [
    {
     "name": "stdout",
     "output_type": "stream",
     "text": [
      "Tesla car mileage is 30kmph\n",
      "Duster car mileage is 24kmph \n"
     ]
    }
   ],
   "source": [
    "# abstract base class   \n",
    "from abc import ABC, abstractmethod   \n",
    "class Car(ABC):   \n",
    "  def mileage(self):   \n",
    "    pass  \n",
    "\n",
    "class Tesla(Car):   \n",
    "  def mileage(self):   \n",
    "    print(\"Tesla car mileage is 30kmph\")  \n",
    "      \n",
    "class Duster(Car):   \n",
    "  def mileage(self):   \n",
    "    print(\"Duster car mileage is 24kmph \")   \n",
    "\n",
    "# Driver code   \n",
    "t= Tesla ()   \n",
    "t.mileage()   \n",
    "\n",
    "d = Duster()   \n",
    "d.mileage()  \n"
   ]
  },
  {
   "cell_type": "code",
   "execution_count": 9,
   "id": "dcb0b425-7e1b-444a-b768-91f83b7c3cbb",
   "metadata": {},
   "outputs": [
    {
     "name": "stdout",
     "output_type": "stream",
     "text": [
      "Triangle has 3 sides\n",
      "Square has 4 sides\n"
     ]
    }
   ],
   "source": [
    "# abstract class  \n",
    "from abc import ABC  \n",
    "class Polygon(ABC):   \n",
    "# abstract method   \n",
    "  def sides(self):   \n",
    "    pass  \n",
    "\n",
    "class Triangle(Polygon):   \n",
    "  def sides(self):   \n",
    "    print(\"Triangle has 3 sides\")   \n",
    "\n",
    "class square(Polygon):   \n",
    "  def sides(self):   \n",
    "    print(\"Square has 4 sides\")   \n",
    "\n",
    "\n",
    "t = Triangle()   \n",
    "t.sides()   \n",
    "\n",
    "s = square()   \n",
    "s.sides()   \n"
   ]
  },
  {
   "cell_type": "code",
   "execution_count": 13,
   "id": "0009bfab-5e3f-40d3-9584-42a45323c870",
   "metadata": {},
   "outputs": [
    {
     "name": "stdout",
     "output_type": "stream",
     "text": [
      " Savings Account: \n",
      " \n",
      "  ==== XYZ BANK ====\n",
      " 1. Create Account \n",
      " 2. Check Balance \n",
      " 3. Deposite \n",
      " 4. Withdraw \n",
      " 5. Exit \n"
     ]
    },
    {
     "name": "stdin",
     "output_type": "stream",
     "text": [
      " Enter your choice :  1\n",
      " Enter your Name :  krishna\n",
      " Enter Intial Balance :  5000\n"
     ]
    },
    {
     "name": "stdout",
     "output_type": "stream",
     "text": [
      "Acc.No: 1000, Name: krishna, Balance: 5000\n",
      " \n",
      "  ==== XYZ BANK ====\n",
      " 1. Create Account \n",
      " 2. Check Balance \n",
      " 3. Deposite \n",
      " 4. Withdraw \n",
      " 5. Exit \n"
     ]
    },
    {
     "name": "stdin",
     "output_type": "stream",
     "text": [
      " Enter your choice :  3\n",
      " Enter the Amount for Deposite:  3000\n"
     ]
    },
    {
     "name": "stdout",
     "output_type": "stream",
     "text": [
      "Deposited : 3000, New Balance : 8000\n",
      " \n",
      "  ==== XYZ BANK ====\n",
      " 1. Create Account \n",
      " 2. Check Balance \n",
      " 3. Deposite \n",
      " 4. Withdraw \n",
      " 5. Exit \n"
     ]
    },
    {
     "name": "stdin",
     "output_type": "stream",
     "text": [
      " Enter your choice :  4\n",
      " Enter the Amount for Witdraw:  9000\n"
     ]
    },
    {
     "name": "stdout",
     "output_type": "stream",
     "text": [
      " Insufficiant Funds!\n",
      "None\n",
      " \n",
      "  ==== XYZ BANK ====\n",
      " 1. Create Account \n",
      " 2. Check Balance \n",
      " 3. Deposite \n",
      " 4. Withdraw \n",
      " 5. Exit \n"
     ]
    },
    {
     "name": "stdin",
     "output_type": "stream",
     "text": [
      " Enter your choice :  2\n"
     ]
    },
    {
     "name": "stdout",
     "output_type": "stream",
     "text": [
      "Existing Balance : 8000\n",
      " \n",
      "  ==== XYZ BANK ====\n",
      " 1. Create Account \n",
      " 2. Check Balance \n",
      " 3. Deposite \n",
      " 4. Withdraw \n",
      " 5. Exit \n"
     ]
    },
    {
     "name": "stdin",
     "output_type": "stream",
     "text": [
      " Enter your choice :  4\n",
      " Enter the Amount for Witdraw:  6000\n"
     ]
    },
    {
     "name": "stdout",
     "output_type": "stream",
     "text": [
      "Withdrawn : 6000, New Balance : 2000\n",
      " \n",
      "  ==== XYZ BANK ====\n",
      " 1. Create Account \n",
      " 2. Check Balance \n",
      " 3. Deposite \n",
      " 4. Withdraw \n",
      " 5. Exit \n"
     ]
    },
    {
     "name": "stdin",
     "output_type": "stream",
     "text": [
      " Enter your choice :  5\n"
     ]
    },
    {
     "name": "stdout",
     "output_type": "stream",
     "text": [
      " Thank you! \n"
     ]
    }
   ],
   "source": [
    "class Bank:\n",
    " def __init__(self):\n",
    "    print(\" Savings Account: \")\n",
    "\n",
    " def create_account(self):\n",
    "    self.acno = 1000\n",
    "    self.name = input(\" Enter your Name : \")\n",
    "    self.bal = int(input(\" Enter Intial Balance : \"))\n",
    "    return f\"Acc.No: {self.acno}, Name: {self.name}, Bal: {self.bal}\"\n",
    "\n",
    " def get_balance(self):\n",
    "    return f\"Existing Balance : {self.bal}\"\n",
    "      \n",
    " def deposit(self,amount):\n",
    "    if int(amount) <= 0:\n",
    "       print(\" Invalid Transaction!\")\n",
    "    else:\n",
    "       self.bal = self.bal + int(amount)\n",
    "       return f\"Deposited : {amount}, New Balance : {self.bal}\"\n",
    "\n",
    " def withdraw(self,amount):\n",
    "    if int(amount) > self.bal:\n",
    "       print(\" Insufficiant Funds!\")\n",
    "    else:   \n",
    "       self.bal = self.bal - int(amount)\n",
    "       return f\"Withdrawn : {amount}, New Balance : {self.bal}\"\n",
    "\n",
    "b = Bank()\n",
    "    \n",
    "while True:\n",
    "    print(\" \\n  ==== XYZ BANK ====\")\n",
    "    print(\" 1. Create Account \")\n",
    "    print(\" 2. Check Balance \")\n",
    "    print(\" 3. Deposite \")\n",
    "    print(\" 4. Withdraw \")\n",
    "    print(\" 5. Exit \")\n",
    "    choice = input(\" Enter your choice : \")\n",
    "\n",
    "    if choice == \"1\":\n",
    "      print(b.create_account())\n",
    "    elif choice == \"2\": \n",
    "      print(b.get_balance())\n",
    "    elif choice == \"3\":\n",
    "      amount = input(\" Enter the Amount for Deposite: \")\n",
    "      print(b.deposit(amount))\n",
    "    elif choice == \"4\":\n",
    "      amount = input(\" Enter the Amount for Witdraw: \")\n",
    "      print(b.withdraw(amount))\n",
    "    elif choice == \"5\":\n",
    "      print(\" Thank you! \")\n",
    "      break\n",
    "    else:\n",
    "      print(\" Invalid Option! \")\n",
    "        \n",
    "     \n",
    "     \n",
    "     \n",
    "     \n",
    "\n",
    "    "
   ]
  },
  {
   "cell_type": "code",
   "execution_count": null,
   "id": "4c47eba8-4b3f-43a7-ba64-8d9396f9bae4",
   "metadata": {},
   "outputs": [],
   "source": []
  }
 ],
 "metadata": {
  "kernelspec": {
   "display_name": "Python 3 (ipykernel)",
   "language": "python",
   "name": "python3"
  },
  "language_info": {
   "codemirror_mode": {
    "name": "ipython",
    "version": 3
   },
   "file_extension": ".py",
   "mimetype": "text/x-python",
   "name": "python",
   "nbconvert_exporter": "python",
   "pygments_lexer": "ipython3",
   "version": "3.13.3"
  }
 },
 "nbformat": 4,
 "nbformat_minor": 5
}
