{
 "cells": [
  {
   "cell_type": "code",
   "execution_count": 2,
   "id": "b56b97fd-2fb4-4847-bfb9-bd6e026a0152",
   "metadata": {},
   "outputs": [
    {
     "name": "stdout",
     "output_type": "stream",
     "text": [
      "Hello World, Good Day!!\n"
     ]
    }
   ],
   "source": [
    "f = open(\"SAMPLE.TXT\", \"w\")\n",
    "f.write(\"Hello World, Good Day!!\")\n",
    "f.close()\n",
    "\n",
    "#open and read the file after the overwriting:\n",
    "f = open(\"SAMPLE.TXT\", \"r\")\n",
    "print(f.read())\n",
    "f.close()\n"
   ]
  },
  {
   "cell_type": "code",
   "execution_count": 13,
   "id": "b081914e-695c-4824-8276-d0bd08acea78",
   "metadata": {},
   "outputs": [
    {
     "name": "stdout",
     "output_type": "stream",
     "text": [
      "File does not exist\n"
     ]
    }
   ],
   "source": [
    "import os\n",
    "f = open(\"SAMPLE.TXT\", \"w\")\n",
    "f.write(\"Hello World, Good Day!!\")\n",
    "f.close()\n",
    "\n",
    "os.remove(\"SAMPLE.TXT\")\n",
    "if os.path.exists(\"SAMPLE.TXT\"):\n",
    "  print(\"File Exist!\")\n",
    "else:\n",
    "  print(\"File does not exist\")\n",
    "    \n"
   ]
  },
  {
   "cell_type": "code",
   "execution_count": 16,
   "id": "e505257f-33aa-452e-b2be-82e8dacc1ec9",
   "metadata": {},
   "outputs": [
    {
     "name": "stdout",
     "output_type": "stream",
     "text": [
      "File does not exist\n"
     ]
    }
   ],
   "source": [
    "import os\n",
    "try:\n",
    "  os.remove(\"SAMPLE.TXT\")\n",
    "  print(\"File removed!\")\n",
    "except:\n",
    "  print(\"File does not exist\")"
   ]
  },
  {
   "cell_type": "code",
   "execution_count": null,
   "id": "8fd60334-10c8-406f-953b-4a3110a6522c",
   "metadata": {},
   "outputs": [],
   "source": []
  }
 ],
 "metadata": {
  "kernelspec": {
   "display_name": "Python 3 (ipykernel)",
   "language": "python",
   "name": "python3"
  },
  "language_info": {
   "codemirror_mode": {
    "name": "ipython",
    "version": 3
   },
   "file_extension": ".py",
   "mimetype": "text/x-python",
   "name": "python",
   "nbconvert_exporter": "python",
   "pygments_lexer": "ipython3",
   "version": "3.13.3"
  }
 },
 "nbformat": 4,
 "nbformat_minor": 5
}
