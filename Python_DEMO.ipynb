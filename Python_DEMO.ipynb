{
 "cells": [
  {
   "cell_type": "code",
   "execution_count": 1,
   "id": "478615b3-9659-4e78-a600-1236bb05aa7b",
   "metadata": {},
   "outputs": [
    {
     "name": "stdout",
     "output_type": "stream",
     "text": [
      "Hello World!\n"
     ]
    }
   ],
   "source": [
    "print(\"Hello World!\")\n"
   ]
  },
  {
   "cell_type": "code",
   "execution_count": 3,
   "id": "16d8e462-cfb5-426e-8d83-f163089782fc",
   "metadata": {},
   "outputs": [
    {
     "name": "stdout",
     "output_type": "stream",
     "text": [
      "10   HELLO   12.25   (5+4j)   True\n",
      "<class 'int'>   <class 'str'>   <class 'float'>   <class 'complex'>   <class 'bool'>\n"
     ]
    }
   ],
   "source": [
    "a=10\n",
    "b=\"HELLO\"\n",
    "c=12.25\n",
    "d=5+4j\n",
    "e=True\n",
    "print(a,\" \",b,\" \",c,\" \",d,\" \",e)\n",
    "print(type(a),\" \",type(b),\" \",type(c),\" \",type(d),\" \",type(e))"
   ]
  },
  {
   "cell_type": "code",
   "execution_count": 4,
   "id": "0987823a-8181-49c0-9945-2d39f4c36146",
   "metadata": {},
   "outputs": [
    {
     "name": "stdout",
     "output_type": "stream",
     "text": [
      " Addition :  34\n",
      " Subtraction :  16\n",
      " Multiplication :  225\n",
      " Division :  2.7777777777777777\n",
      " Mod :  7\n",
      " Floor Divison :  2\n",
      " Exponentiation :  3814697265625\n"
     ]
    }
   ],
   "source": [
    "a=25\n",
    "b=9\n",
    "print(\" Addition : \",a+b)\n",
    "print(\" Subtraction : \",a-b)\n",
    "print(\" Multiplication : \",a*b)\n",
    "print(\" Division : \",a/b)\n",
    "print(\" Mod : \",a%b)\n",
    "print(\" Floor Divison : \",a//b)\n",
    "print(\" Exponentiation : \",a**b)\n",
    "\n"
   ]
  },
  {
   "cell_type": "code",
   "execution_count": 2,
   "id": "46687424-eaf0-4bdf-b0dc-ccece6813e98",
   "metadata": {},
   "outputs": [
    {
     "name": "stdout",
     "output_type": "stream",
     "text": [
      " Big Value :  25\n",
      " Odd Number\n"
     ]
    }
   ],
   "source": [
    "a=25\n",
    "b=9\n",
    "if a>b:\n",
    "    print(\" Big Value : \",a)\n",
    "else:\n",
    "    print(\" Big Value : \",b)\n",
    "\n",
    "if a%2 == 0:\n",
    "    print(\" Even Number\")\n",
    "else:\n",
    "    print(\" Odd Number\")"
   ]
  },
  {
   "cell_type": "code",
   "execution_count": 6,
   "id": "2ce07aee-ca85-4bd2-accb-9b3ef50aca46",
   "metadata": {},
   "outputs": [
    {
     "name": "stdout",
     "output_type": "stream",
     "text": [
      "1\n",
      "2\n",
      "3\n",
      "4\n",
      "5\n",
      "6\n",
      "7\n",
      "8\n",
      "9\n"
     ]
    }
   ],
   "source": [
    "n=1\n",
    "while n<10:\n",
    "    print(n)\n",
    "    n+=1"
   ]
  },
  {
   "cell_type": "code",
   "execution_count": 9,
   "id": "f90b31fa-9fb4-470f-8fb9-147f126d7ec4",
   "metadata": {},
   "outputs": [
    {
     "name": "stdout",
     "output_type": "stream",
     "text": [
      " Value :  2\n",
      " Value :  4\n",
      " Value :  6\n",
      " Value :  8\n"
     ]
    }
   ],
   "source": [
    "lst=[1,2,3,4,5,6,7,8,9]\n",
    "for i in lst:\n",
    "    if i%2 == 0:\n",
    "      print(\" Value : \",i)\n",
    "    "
   ]
  },
  {
   "cell_type": "code",
   "execution_count": 7,
   "id": "d6069aee-86d8-469a-b964-f83bebed9985",
   "metadata": {},
   "outputs": [
    {
     "name": "stdout",
     "output_type": "stream",
     "text": [
      "fuirts[0] = apple\n",
      "fuirts[1] = banana\n",
      "fuirts[2] = cherry\n",
      "fruits = ['apple', 'banana', 'cherry', 'orange']\n",
      " DATA TYPE:  <class 'list'>\n",
      "sum_nums = 15\n"
     ]
    }
   ],
   "source": [
    "# Create a list  \n",
    "fruits = ['apple', 'banana', 'cherry']  \n",
    "print(\"fuirts[0] =\", fruits[0])\n",
    "print(\"fuirts[1] =\", fruits[1])\n",
    "print(\"fuirts[2] =\", fruits[2])\n",
    "\n",
    "\n",
    "# Modify list  \n",
    "fruits.append('orange')  \n",
    "print(\"fruits =\", fruits)  \n",
    "print(\" DATA TYPE: \",type(fruits))\n",
    "\n",
    "num_list = [1, 2, 3, 4, 5]  \n",
    "# Calculate sum  \n",
    "sum_nums = sum(num_list)  \n",
    "print(\"sum_nums =\", sum_nums)  \n"
   ]
  },
  {
   "cell_type": "code",
   "execution_count": 9,
   "id": "8257ce81-df8a-45f5-aef6-3bcb0ca329c9",
   "metadata": {},
   "outputs": [
    {
     "name": "stdout",
     "output_type": "stream",
     "text": [
      " Tuple Values :  (3, 4, 5)\n",
      "(x, y, z) = 3 4 5\n",
      " DATA TYPE:  <class 'tuple'>\n",
      " DATA TYPE:  <class 'int'>\n",
      "Tuple = ('apple', 'banana', 'cherry', 'orange')\n"
     ]
    }
   ],
   "source": [
    "# Create a tuple  \n",
    "point = (3, 4, 5)  \n",
    "x, y, z= point  \n",
    "print(\" Tuple Values : \",point)\n",
    "print(\"(x, y, z) =\", x, y, z)  \n",
    "print(\" DATA TYPE: \",type(point))\n",
    "print(\" DATA TYPE: \",type(x))\n",
    "\n",
    "# Create another tuple  \n",
    "tuple_ = ('apple', 'banana', 'cherry', 'orange')  \n",
    "print(\"Tuple =\", tuple_)  \n"
   ]
  },
  {
   "cell_type": "code",
   "execution_count": 10,
   "id": "51849f5e-8402-4d52-a2e2-1b0560cf4ea9",
   "metadata": {},
   "outputs": [
    {
     "name": "stdout",
     "output_type": "stream",
     "text": [
      "set1 = {1, 2, 3, 4}\n",
      " DATA TYPE :  <class 'set'>\n",
      "set2 = {'apple', 'orange', 'cherry', 'banana'}\n"
     ]
    }
   ],
   "source": [
    "# Create a set  \n",
    "set1 = {1, 2, 2, 1, 3, 4}  \n",
    "print(\"set1 =\", set1)  \n",
    "print(\" DATA TYPE : \",type(set1))\n",
    "  \n",
    "# Create another set  \n",
    "set2 = {'apple', 'banana', 'cherry', 'apple', 'orange'}  \n",
    "print(\"set2 =\", set2)  \n"
   ]
  },
  {
   "cell_type": "code",
   "execution_count": 12,
   "id": "ef4efe99-d388-41f2-8aa0-fb71a862fcff",
   "metadata": {},
   "outputs": [
    {
     "name": "stdout",
     "output_type": "stream",
     "text": [
      "person = {'name': 'Umesh', 'age': 25, 'city': 'Noida'}\n",
      " DATA TYPE:  <class 'dict'>\n",
      " NAME :  Umesh\n",
      " AGE  :  25\n",
      " CITY :  Noida\n",
      "person = {'name': 'Umesh', 'age': 27, 'city': 'Noida'}\n"
     ]
    }
   ],
   "source": [
    "# Create a dictionary  \n",
    "person = {'name': 'Umesh', 'age': 25, 'city': 'Noida'}  \n",
    "print(\"person =\", person)  \n",
    "print(\" DATA TYPE: \",type(person))\n",
    "print(\" NAME : \",person['name']) \n",
    "print(\" AGE  : \",person['age']) \n",
    "print(\" CITY : \",person['city']) \n",
    "\n",
    "# Modify Dictionary  \n",
    "person['age'] = 27  \n",
    "print(\"person =\", person)  \n"
   ]
  },
  {
   "cell_type": "code",
   "execution_count": 14,
   "id": "79309f47-f318-4b57-95cf-01e80ed0a081",
   "metadata": {},
   "outputs": [
    {
     "name": "stdout",
     "output_type": "stream",
     "text": [
      "[10, 20, 'hi', 'Python']\n",
      "['Python']\n",
      "[25, 15]\n",
      "[10, 20, 'hi', 'Python', 25, 15, 'sathya', 'tech']\n",
      "[25, 15, 'sathya', 'tech', 25, 15, 'sathya', 'tech', 25, 15, 'sathya', 'tech']\n"
     ]
    }
   ],
   "source": [
    "# LIST SLICING\n",
    "list1  = [10, 20, \"hi\", \"Python\"]    \n",
    "list2  = [25, 15, \"sathya\", \"tech\"]    \n",
    "\n",
    "print (list1)  \n",
    "print (list1[3:])  \n",
    "print (list2[0:2])   \n",
    "# List Concatenation using + operator  \n",
    "print (list1 + list2)  \n",
    "# List repetation using * operator  \n",
    "print (list2 * 3)  \n"
   ]
  },
  {
   "cell_type": "code",
   "execution_count": 15,
   "id": "5400fe22-64db-4fc9-96ea-46d8d4fe3255",
   "metadata": {},
   "outputs": [
    {
     "name": "stdout",
     "output_type": "stream",
     "text": [
      "('hi', 'Python', 2)\n",
      "('Python', 2)\n",
      "('sathya',)\n",
      "('hi', 'Python', 2, 'sathya', 'tech', 9)\n",
      "('hi', 'Python', 2, 'hi', 'Python', 2, 'hi', 'Python', 2)\n"
     ]
    },
    {
     "ename": "NameError",
     "evalue": "name 't' is not defined",
     "output_type": "error",
     "traceback": [
      "\u001b[31m---------------------------------------------------------------------------\u001b[39m",
      "\u001b[31mNameError\u001b[39m                                 Traceback (most recent call last)",
      "\u001b[36mCell\u001b[39m\u001b[36m \u001b[39m\u001b[32mIn[15]\u001b[39m\u001b[32m, line 13\u001b[39m\n\u001b[32m     11\u001b[39m \u001b[38;5;28mprint\u001b[39m (tup1 * \u001b[32m3\u001b[39m)     \n\u001b[32m     12\u001b[39m \u001b[38;5;66;03m# Adding value to tup. It will throw an error.  \u001b[39;00m\n\u001b[32m---> \u001b[39m\u001b[32m13\u001b[39m \u001b[43mt\u001b[49m[\u001b[32m2\u001b[39m] = \u001b[33m\"\u001b[39m\u001b[33mhi\u001b[39m\u001b[33m\"\u001b[39m  \n",
      "\u001b[31mNameError\u001b[39m: name 't' is not defined"
     ]
    }
   ],
   "source": [
    "# TUPLE SLICING\n",
    "tup1  = (\"hi\", \"Python\", 2)    \n",
    "tup2  = (\"sathya\", \"tech\", 9)    \n",
    "\n",
    "print (tup1)  \n",
    "print (tup1[1:])    \n",
    "print (tup2[0:1])    \n",
    "# Tuple concatenation using + operator  \n",
    "print (tup1 + tup2)    \n",
    "# Tuple repatation using * operator  \n",
    "print (tup1 * 3)     \n",
    "# Adding value to tup. It will throw an error.  \n",
    "# t[2] = \"hi\"   --> cat not modify\n"
   ]
  },
  {
   "cell_type": "code",
   "execution_count": 4,
   "id": "53db4fcd-0e0e-458f-a461-751716a31d8d",
   "metadata": {},
   "outputs": [
    {
     "name": "stdout",
     "output_type": "stream",
     "text": [
      "Value :  100   1000.0   SathyaTech\n"
     ]
    },
    {
     "ename": "NameError",
     "evalue": "name 'counter' is not defined",
     "output_type": "error",
     "traceback": [
      "\u001b[31m---------------------------------------------------------------------------\u001b[39m",
      "\u001b[31mNameError\u001b[39m                                 Traceback (most recent call last)",
      "\u001b[36mCell\u001b[39m\u001b[36m \u001b[39m\u001b[32mIn[4]\u001b[39m\u001b[32m, line 9\u001b[39m\n\u001b[32m      7\u001b[39m \u001b[38;5;28;01mdel\u001b[39;00m counter\n\u001b[32m      8\u001b[39m \u001b[38;5;28;01mdel\u001b[39;00m miles, name\n\u001b[32m----> \u001b[39m\u001b[32m9\u001b[39m \u001b[38;5;28mprint\u001b[39m(\u001b[33m\"\u001b[39m\u001b[33mValue : \u001b[39m\u001b[33m\"\u001b[39m,\u001b[43mcounter\u001b[49m,\u001b[33m\"\u001b[39m\u001b[33m \u001b[39m\u001b[33m\"\u001b[39m,miles,\u001b[33m\"\u001b[39m\u001b[33m \u001b[39m\u001b[33m\"\u001b[39m,name)\n",
      "\u001b[31mNameError\u001b[39m: name 'counter' is not defined"
     ]
    }
   ],
   "source": [
    "# Create and Delete Variables\n",
    "counter = 100          # Creates an integer variable\n",
    "miles   = 1000.0       # Creates a floating point variable\n",
    "name    = \"SathyaTech\"   # Creates a string variable\n",
    "print(\"Value : \",counter,\" \",miles,\" \",name)\n",
    "\n",
    "del counter\n",
    "del miles, name\n",
    "print(\"Value : \",counter,\" \",miles,\" \",name)\n"
   ]
  },
  {
   "cell_type": "code",
   "execution_count": 6,
   "id": "f409638a-957b-4f8b-a62e-a1f9ea351214",
   "metadata": {},
   "outputs": [
    {
     "name": "stdout",
     "output_type": "stream",
     "text": [
      " Integer Values :  1   2   3\n",
      " Float Values :  1.0   2.8   4.2\n",
      " String Values :  s1   2   3.0\n"
     ]
    }
   ],
   "source": [
    "# Python Type Casting: INTEGER\n",
    "x = int(1)   # x will be 1\n",
    "y = int(2.8) # y will be 2\n",
    "z = int(\"3\") # z will be 3\n",
    "print(\" Integer Values : \",x,\" \",y,\" \",z)\n",
    "\n",
    "# Python Type Casting: FLOAT\n",
    "x = float(1)     # x will be 1.0\n",
    "y = float(2.8)   # y will be 2.8\n",
    "z = float(\"4.2\") # w will be 4.2\n",
    "print(\" Float Values : \",x,\" \",y,\" \",z)\n",
    "\n",
    "# Python Type Casting: STRING\n",
    "x = str(\"s1\") # x will be 's1'\n",
    "y = str(2)    # y will be '2'\n",
    "z = str(3.0)  # z will be '3.0'\n",
    "print(\" String Values : \",x,\" \",y,\" \",z)\n"
   ]
  },
  {
   "cell_type": "code",
   "execution_count": 8,
   "id": "0b3e9e2c-4873-4b79-9751-82c7045d1313",
   "metadata": {},
   "outputs": [
    {
     "name": "stdout",
     "output_type": "stream",
     "text": [
      "Hello\n",
      "SathyaTech Hyderabad\n",
      "Good day \n",
      "bye\n",
      "SathyaTech Hyderabad\n",
      "Nice day\n",
      "bye\n"
     ]
    }
   ],
   "source": [
    "# Python String Datatype\n",
    "a = \"Hello\"\n",
    "print(a)\n",
    "\n",
    "a = \"\"\"SathyaTech Hyderabad\n",
    "Good day \n",
    "bye\"\"\"\n",
    "print(a)\n",
    "\n",
    "a = '''SathyaTech Hyderabad\n",
    "Nice day\n",
    "bye'''\n",
    "print(a)\n"
   ]
  },
  {
   "cell_type": "code",
   "execution_count": 10,
   "id": "d664fbe9-0aad-4115-ba84-d447a2a716de",
   "metadata": {},
   "outputs": [
    {
     "name": "stdout",
     "output_type": "stream",
     "text": [
      "Hello, World!\n",
      "llo\n",
      "Hello\n",
      "llo, World!\n",
      "orl\n"
     ]
    }
   ],
   "source": [
    "# String Slicing\n",
    "b = \"Hello, World!\"\n",
    "print(b)\n",
    "print(b[2:5])\n",
    "print(b[:5])\n",
    "print(b[2:])\n",
    "print(b[-5:-2])\n"
   ]
  },
  {
   "cell_type": "code",
   "execution_count": 11,
   "id": "4901f5f2-bdc4-44ab-bf37-0ea4bb2b4978",
   "metadata": {},
   "outputs": [
    {
     "name": "stdout",
     "output_type": "stream",
     "text": [
      "HELLO, WORLD!\n",
      "hello, world!\n",
      "Hello, World!\n",
      "Jello, World!\n",
      "['Hello', ' World!']\n",
      "HelloWorld\n",
      "Hello World\n"
     ]
    }
   ],
   "source": [
    "# String Operations\n",
    "a = \"Hello, World!\"\n",
    "print(a.upper())\n",
    "print(a.lower())\n",
    "print(a.strip()) # returns \"Hello, World!\"\n",
    "print(a.replace(\"H\", \"J\"))\n",
    "print(a.split(\",\")) # returns ['Hello', ' World!']\n",
    "\n",
    "a = \"Hello\"\n",
    "b = \"World\"\n",
    "c = a + b\n",
    "print(c)\n",
    "\n",
    "c = a + \" \" + b\n",
    "print(c)\n"
   ]
  },
  {
   "cell_type": "code",
   "execution_count": 16,
   "id": "d0b755fd-5dfc-43bf-bd04-5c542a166861",
   "metadata": {},
   "outputs": [
    {
     "name": "stdout",
     "output_type": "stream",
     "text": [
      "My name is John, I am 36\n",
      "The price is 59 dollars\n",
      "The price is 59.00 dollars\n",
      "The price is 1180 dollars\n",
      "We are the so-called \"Vikings\" from the north.\n"
     ]
    }
   ],
   "source": [
    "# F-String Examples\n",
    "age = 36\n",
    "txt = f\"My name is John, I am {age}\"\n",
    "print(txt)\n",
    "\n",
    "price = 59\n",
    "txt = f\"The price is {price} dollars\"\n",
    "print(txt)\n",
    "\n",
    "txt = f\"The price is {price:.2f} dollars\"\n",
    "print(txt)\n",
    "\n",
    "txt = f\"The price is {20 * 59} dollars\"\n",
    "print(txt)\n",
    "\n",
    "txt = \"We are the so-called \\\"Vikings\\\" from the north.\"\n",
    "print(txt)"
   ]
  },
  {
   "cell_type": "code",
   "execution_count": null,
   "id": "97bc9cd4-0e88-49aa-84ed-33d1f1649b74",
   "metadata": {},
   "outputs": [],
   "source": []
  }
 ],
 "metadata": {
  "kernelspec": {
   "display_name": "Python 3 (ipykernel)",
   "language": "python",
   "name": "python3"
  },
  "language_info": {
   "codemirror_mode": {
    "name": "ipython",
    "version": 3
   },
   "file_extension": ".py",
   "mimetype": "text/x-python",
   "name": "python",
   "nbconvert_exporter": "python",
   "pygments_lexer": "ipython3",
   "version": "3.13.3"
  }
 },
 "nbformat": 4,
 "nbformat_minor": 5
}
